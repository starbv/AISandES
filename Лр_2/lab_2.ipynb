{
 "cells": [
  {
   "cell_type": "markdown",
   "id": "da1911c4",
   "metadata": {
    "pycharm": {
     "name": "#%%\n"
    }
   },
   "source": [
    "# Лабораторная работа №2\n",
    "### Задание\n",
    "### Вариант №8\n",
    "### Классы 5, 16, 20 ('comp.sys.mac.hardware', ''soc.religion.christian', ''talk.religion.misc')"
   ]
  },
  {
   "cell_type": "code",
   "execution_count": 1,
   "id": "2dae64bb",
   "metadata": {
    "pycharm": {
     "name": "#%%\n"
    }
   },
   "outputs": [],
   "source": [
    "import warnings\n",
    "import nltk\n",
    "from sklearn.datasets import fetch_20newsgroups\n",
    "warnings.simplefilter(action='ignore', category=FutureWarning)"
   ]
  },
  {
   "cell_type": "code",
   "execution_count": 2,
   "id": "ad721965",
   "metadata": {
    "pycharm": {
     "name": "#%%\n"
    }
   },
   "outputs": [],
   "source": [
    "categories = ['comp.sys.mac.hardware', 'soc.religion.christian', 'talk.religion.misc']\n",
    "remove = ('headers', 'footers', 'quotes')\n",
    "\n",
    "twenty_train_full = fetch_20newsgroups(subset='train', categories=categories, shuffle=True, random_state=42, remove=remove)\n",
    "twenty_test_full = fetch_20newsgroups(subset='test', categories=categories, shuffle=True, random_state=42, remove=remove)"
   ]
  },
  {
   "cell_type": "code",
   "execution_count": 3,
   "id": "3a5e8422",
   "metadata": {
    "pycharm": {
     "name": "#%%\n"
    }
   },
   "outputs": [
    {
     "data": {
      "text/plain": [
       "'A SIMM is a small PCB with DRAM chips soldered on.\\n\\n--maarten'"
      ]
     },
     "execution_count": 3,
     "metadata": {},
     "output_type": "execute_result"
    }
   ],
   "source": [
    "twenty_train_full.data[0]"
   ]
  },
  {
   "cell_type": "code",
   "execution_count": 4,
   "id": "919a3dfb",
   "metadata": {
    "pycharm": {
     "name": "#%%\n"
    }
   },
   "outputs": [
    {
     "data": {
      "text/plain": [
       "\"\\nI don't know either.  Truth be known, so little is known of angels\\nto even guess.  All we really know is that angels ALWAYS speak in\\nthe nativ tongue of the person they're talking to, so perhaps they\\ndon't have ANY language of their own.\\n\\n\\nWell, we are told to test the spirits.  While you could do this\\nscripturally, to see if someones claims are backed by the bible,\\nI see nothing wrong with making sure that that guy Lazarus really\\nwas dead and now he's alive.\\n\\n\\nIt's a common fallacy you commit.  The non-falsifiability trick.  How\\ncan I prove it when not all the evidence may be seen?  Answer:  I\\ncan't.  The fallacy is in assuming that it is up to me to prove \\nanything.  \\n\\nWhen I say it has never been proven, I'm talking about the ones\\nmaking the claims, not the skeptics, who are doing the proving.\\n\\nThe burden of proof rest with the claimant.  Unfortunately, \\n(pontification warning) our legal system seems to be headed in\\nthe dangerous realm of making people prove their innocence (end\\npontification).\\n\\nBut truthfully, Corinthians was so poorly written (or maybe just\\nso poorly translated into English) that much remains unknown\\nabout just what Paul really intended (despite claims of hard\\nproof one way or another).  Some will see his writings in\\n1 cor 12-14 as saying don't do this don't do this and using\\nsarcasm, metaphor, etc. while yet others take what he says literally\\nsarcasms and metaphors notwithstanding.\""
      ]
     },
     "execution_count": 4,
     "metadata": {},
     "output_type": "execute_result"
    }
   ],
   "source": [
    "twenty_test_full.data[0]"
   ]
  },
  {
   "cell_type": "markdown",
   "id": "cf13565f",
   "metadata": {
    "pycharm": {
     "name": "#%% md\n"
    }
   },
   "source": [
    "### Применение стемминга"
   ]
  },
  {
   "cell_type": "code",
   "execution_count": 54,
   "id": "94c050af",
   "metadata": {
    "pycharm": {
     "name": "#%%\n"
    }
   },
   "outputs": [],
   "source": [
    "import nltk\n",
    "from nltk import word_tokenize\n",
    "from nltk.stem import *\n",
    "\n",
    "nltk.download('punkt')"
   ]
  },
  {
   "cell_type": "code",
   "execution_count": 6,
   "id": "4a06e896",
   "metadata": {
    "pycharm": {
     "name": "#%%\n"
    }
   },
   "outputs": [],
   "source": [
    "def stemming(data):\n",
    "    porter_stemmer = PorterStemmer()\n",
    "    stem = []\n",
    "    for text in data:\n",
    "        nltk_tokens = word_tokenize(text)\n",
    "        line = ''.join([' ' + porter_stemmer.stem(word) for word in nltk_tokens])\n",
    "        stem.append(line)\n",
    "    return stem"
   ]
  },
  {
   "cell_type": "code",
   "execution_count": 7,
   "id": "556503b3",
   "metadata": {
    "pycharm": {
     "name": "#%%\n"
    }
   },
   "outputs": [],
   "source": [
    "stem_train = stemming(twenty_train_full.data)\n",
    "stem_test = stemming(twenty_test_full.data)"
   ]
  },
  {
   "cell_type": "code",
   "execution_count": 8,
   "id": "4abda5e0",
   "metadata": {
    "pycharm": {
     "name": "#%%\n"
    }
   },
   "outputs": [
    {
     "data": {
      "text/plain": [
       "' a simm is a small pcb with dram chip solder on . -- maarten'"
      ]
     },
     "execution_count": 8,
     "metadata": {},
     "output_type": "execute_result"
    }
   ],
   "source": [
    "stem_train[0]"
   ]
  },
  {
   "cell_type": "code",
   "execution_count": 9,
   "id": "bb2da467",
   "metadata": {
    "pycharm": {
     "name": "#%%\n"
    }
   },
   "outputs": [
    {
     "data": {
      "text/plain": [
       "\" i do n't know either . truth be known , so littl is known of angel to even guess . all we realli know is that angel alway speak in the nativ tongu of the person they 're talk to , so perhap they do n't have ani languag of their own . well , we are told to test the spirit . while you could do thi scriptur , to see if someon claim are back by the bibl , i see noth wrong with make sure that that guy lazaru realli wa dead and now he 's aliv . it 's a common fallaci you commit . the non-falsifi trick . how can i prove it when not all the evid may be seen ? answer : i ca n't . the fallaci is in assum that it is up to me to prove anyth . when i say it ha never been proven , i 'm talk about the one make the claim , not the skeptic , who are do the prove . the burden of proof rest with the claimant . unfortun , ( pontif warn ) our legal system seem to be head in the danger realm of make peopl prove their innoc ( end pontif ) . but truth , corinthian wa so poorli written ( or mayb just so poorli translat into english ) that much remain unknown about just what paul realli intend ( despit claim of hard proof one way or anoth ) . some will see hi write in 1 cor 12-14 as say do n't do thi do n't do thi and use sarcasm , metaphor , etc . while yet other take what he say liter sarcasm and metaphor notwithstand .\""
      ]
     },
     "execution_count": 9,
     "metadata": {},
     "output_type": "execute_result"
    }
   ],
   "source": [
    "stem_test[0]"
   ]
  },
  {
   "cell_type": "markdown",
   "id": "8fb1780f",
   "metadata": {
    "pycharm": {
     "name": "#%% md\n"
    }
   },
   "source": [
    "### Векторизация выборки"
   ]
  },
  {
   "cell_type": "markdown",
   "id": "1dfe1a2a",
   "metadata": {
    "pycharm": {
     "name": "#%% md\n"
    }
   },
   "source": [
    "#### Векторизация обучающей и тестовой выборки простым подсчетом слов (CountVectorizer) и значением max_features = 10.000"
   ]
  },
  {
   "cell_type": "code",
   "execution_count": 10,
   "id": "38f4dda6",
   "metadata": {
    "pycharm": {
     "name": "#%%\n"
    }
   },
   "outputs": [],
   "source": [
    "import numpy as np\n",
    "from sklearn.feature_extraction.text import CountVectorizer"
   ]
  },
  {
   "cell_type": "code",
   "execution_count": 11,
   "id": "15834539",
   "metadata": {
    "pycharm": {
     "name": "#%%\n"
    }
   },
   "outputs": [],
   "source": [
    "vect_without_stop = CountVectorizer(max_features=10000)"
   ]
  },
  {
   "cell_type": "code",
   "execution_count": 12,
   "id": "12a749fa",
   "metadata": {
    "pycharm": {
     "name": "#%%\n"
    }
   },
   "outputs": [],
   "source": [
    "train_data = vect_without_stop.fit_transform(twenty_train_full.data)\n",
    "test_data = vect_without_stop.transform(twenty_test_full.data)"
   ]
  },
  {
   "cell_type": "code",
   "execution_count": 13,
   "id": "80092e0a",
   "metadata": {
    "pycharm": {
     "name": "#%%\n"
    }
   },
   "outputs": [],
   "source": [
    "def sort_by_tf(input_str):\n",
    "    return input_str[1]\n",
    "\n",
    "def top_terms(vector, data, count):\n",
    "    x = list(zip(vector.get_feature_names_out(), np.ravel(data.sum(axis=0))))\n",
    "    x.sort(key=sort_by_tf, reverse=True)\n",
    "    return x[:count]"
   ]
  },
  {
   "cell_type": "code",
   "execution_count": 14,
   "id": "4e29f2e0",
   "metadata": {
    "pycharm": {
     "name": "#%%\n"
    }
   },
   "outputs": [
    {
     "data": {
      "text/plain": [
       "[{'the': 12380},\n",
       " {'to': 6270},\n",
       " {'of': 6251},\n",
       " {'and': 4764},\n",
       " {'that': 3928},\n",
       " {'is': 3902},\n",
       " {'in': 3771},\n",
       " {'it': 2684},\n",
       " {'you': 2165},\n",
       " {'not': 1933},\n",
       " {'for': 1839},\n",
       " {'this': 1688},\n",
       " {'be': 1600},\n",
       " {'as': 1579},\n",
       " {'are': 1534},\n",
       " {'have': 1479},\n",
       " {'with': 1475},\n",
       " {'on': 1351},\n",
       " {'but': 1136},\n",
       " {'or': 1132}]"
      ]
     },
     "execution_count": 14,
     "metadata": {},
     "output_type": "execute_result"
    }
   ],
   "source": [
    "top_terms_without_stop = [{term[0]: term[1]} for term in top_terms(vect_without_stop, train_data, 20)]\n",
    "top_terms_without_stop\n",
    "\n",
    "top_terms_without_stop_test = [{term[0]: term[1]} for term in top_terms(vect_without_stop, test_data, 20)]\n",
    "top_terms_without_stop_test"
   ]
  },
  {
   "cell_type": "markdown",
   "id": "76f9aea4",
   "metadata": {
    "pycharm": {
     "name": "#%% md\n"
    }
   },
   "source": [
    "### Отсечение стоп-слов"
   ]
  },
  {
   "cell_type": "code",
   "execution_count": 15,
   "id": "0926dea4",
   "metadata": {
    "pycharm": {
     "name": "#%%\n"
    }
   },
   "outputs": [],
   "source": [
    "vect_stop = CountVectorizer(max_features=10000, stop_words='english')"
   ]
  },
  {
   "cell_type": "code",
   "execution_count": 16,
   "id": "0666451a",
   "metadata": {
    "pycharm": {
     "name": "#%%\n"
    }
   },
   "outputs": [],
   "source": [
    "train_data_stop = vect_stop.fit_transform(twenty_train_full.data)\n",
    "test_data_stop = vect_stop.transform(twenty_test_full.data)"
   ]
  },
  {
   "cell_type": "code",
   "execution_count": 17,
   "id": "5ced268c",
   "metadata": {
    "pycharm": {
     "name": "#%%\n"
    }
   },
   "outputs": [
    {
     "data": {
      "text/plain": [
       "[{'god': 1108},\n",
       " {'people': 471},\n",
       " {'know': 424},\n",
       " {'don': 385},\n",
       " {'just': 380},\n",
       " {'does': 378},\n",
       " {'like': 375},\n",
       " {'jesus': 368},\n",
       " {'christ': 367},\n",
       " {'think': 343},\n",
       " {'church': 307},\n",
       " {'time': 301},\n",
       " {'lord': 298},\n",
       " {'say': 287},\n",
       " {'did': 269},\n",
       " {'christian': 268},\n",
       " {'bible': 267},\n",
       " {'believe': 264},\n",
       " {'sin': 259},\n",
       " {'mac': 255}]"
      ]
     },
     "execution_count": 17,
     "metadata": {},
     "output_type": "execute_result"
    }
   ],
   "source": [
    "top_terms_stop = [{term[0]: term[1]} for term in top_terms(vect_stop, train_data_stop, 20)]\n",
    "top_terms_stop\n",
    "\n",
    "top_terms_stop_test = [{term[0]: term[1]} for term in top_terms(vect_stop, test_data_stop, 20)]\n",
    "top_terms_stop_test"
   ]
  },
  {
   "cell_type": "markdown",
   "id": "174ac222",
   "metadata": {
    "pycharm": {
     "name": "#%% md\n"
    }
   },
   "source": [
    "### Для данных после стемминга"
   ]
  },
  {
   "cell_type": "markdown",
   "id": "9c49cece",
   "metadata": {
    "pycharm": {
     "name": "#%% md\n"
    }
   },
   "source": [
    "#### Без стоп-слов"
   ]
  },
  {
   "cell_type": "code",
   "execution_count": 18,
   "id": "087d281b",
   "metadata": {
    "pycharm": {
     "name": "#%%\n"
    }
   },
   "outputs": [],
   "source": [
    "vect_stem_without_stop = CountVectorizer(max_features=10000)"
   ]
  },
  {
   "cell_type": "code",
   "execution_count": 19,
   "id": "bb1dd35a",
   "metadata": {
    "pycharm": {
     "name": "#%%\n"
    }
   },
   "outputs": [],
   "source": [
    "train_data_without_stop_stem = vect_stem_without_stop.fit_transform(stem_train)\n",
    "test_data_without_stop_stem = vect_stem_without_stop.transform(stem_test)"
   ]
  },
  {
   "cell_type": "code",
   "execution_count": 20,
   "id": "74a0fb12",
   "metadata": {
    "pycharm": {
     "name": "#%%\n"
    }
   },
   "outputs": [
    {
     "data": {
      "text/plain": [
       "[{'the': 12380},\n",
       " {'to': 6270},\n",
       " {'of': 6251},\n",
       " {'and': 4764},\n",
       " {'is': 3955},\n",
       " {'that': 3930},\n",
       " {'in': 3771},\n",
       " {'it': 2882},\n",
       " {'you': 2165},\n",
       " {'not': 2042},\n",
       " {'be': 1904},\n",
       " {'for': 1839},\n",
       " {'thi': 1756},\n",
       " {'have': 1614},\n",
       " {'as': 1579},\n",
       " {'are': 1558},\n",
       " {'with': 1476},\n",
       " {'on': 1354},\n",
       " {'do': 1217},\n",
       " {'god': 1173}]"
      ]
     },
     "execution_count": 20,
     "metadata": {},
     "output_type": "execute_result"
    }
   ],
   "source": [
    "top_terms_stem = [{term[0]: term[1]} for term in top_terms(vect_stem_without_stop, train_data_without_stop_stem, 20)]\n",
    "top_terms_stem\n",
    "\n",
    "top_terms_stem_test = [{term[0]: term[1]} for term in top_terms(vect_stem_without_stop, test_data_without_stop_stem, 20)]\n",
    "top_terms_stem_test"
   ]
  },
  {
   "cell_type": "markdown",
   "id": "ebf9f9af",
   "metadata": {
    "pycharm": {
     "name": "#%% md\n"
    }
   },
   "source": [
    "#### С использованием стоп-слов"
   ]
  },
  {
   "cell_type": "code",
   "execution_count": 21,
   "id": "08395cd5",
   "metadata": {
    "pycharm": {
     "name": "#%%\n"
    }
   },
   "outputs": [],
   "source": [
    "vect_stem = CountVectorizer(max_features=10000, stop_words='english')"
   ]
  },
  {
   "cell_type": "code",
   "execution_count": 22,
   "id": "1fbcc9bf",
   "metadata": {
    "pycharm": {
     "name": "#%%\n"
    }
   },
   "outputs": [],
   "source": [
    "train_data_stop_stem = vect_stem.fit_transform(stem_train)\n",
    "test_data_stop_stem = vect_stem.transform(stem_test)"
   ]
  },
  {
   "cell_type": "code",
   "execution_count": 23,
   "id": "b29490fe",
   "metadata": {
    "pycharm": {
     "name": "#%%\n"
    }
   },
   "outputs": [
    {
     "data": {
      "text/plain": [
       "[{'thi': 1756},\n",
       " {'god': 1173},\n",
       " {'wa': 1154},\n",
       " {'hi': 737},\n",
       " {'christian': 624},\n",
       " {'ha': 566},\n",
       " {'use': 563},\n",
       " {'ani': 510},\n",
       " {'doe': 510},\n",
       " {'say': 487},\n",
       " {'know': 485},\n",
       " {'peopl': 473},\n",
       " {'like': 425},\n",
       " {'homosexu': 410},\n",
       " {'sin': 396},\n",
       " {'onli': 390},\n",
       " {'just': 380},\n",
       " {'think': 375},\n",
       " {'believ': 371},\n",
       " {'christ': 368}]"
      ]
     },
     "execution_count": 23,
     "metadata": {},
     "output_type": "execute_result"
    }
   ],
   "source": [
    "top_terms_stop_stem = [{term[0]: term[1]} for term in top_terms(vect_stem, train_data_stop_stem, 20)]\n",
    "top_terms_stop_stem\n",
    "\n",
    "top_terms_stop_stem_test = [{term[0]: term[1]} for term in top_terms(vect_stem, test_data_stop_stem, 20)]\n",
    "top_terms_stop_stem_test"
   ]
  },
  {
   "cell_type": "markdown",
   "id": "0ae93e0d",
   "metadata": {
    "pycharm": {
     "name": "#%% md\n"
    }
   },
   "source": [
    "### Векторизация выборки с помощью TfidfTransformer (TF и TF-IDF)"
   ]
  },
  {
   "cell_type": "markdown",
   "id": "6b04d3df",
   "metadata": {
    "pycharm": {
     "name": "#%% md\n"
    }
   },
   "source": [
    "#### Без использования стоп-слов"
   ]
  },
  {
   "cell_type": "code",
   "execution_count": 24,
   "id": "41946fb9",
   "metadata": {
    "pycharm": {
     "name": "#%%\n"
    }
   },
   "outputs": [],
   "source": [
    "from sklearn.feature_extraction.text import TfidfTransformer"
   ]
  },
  {
   "cell_type": "code",
   "execution_count": 25,
   "id": "37672b7c",
   "metadata": {
    "pycharm": {
     "name": "#%%\n"
    }
   },
   "outputs": [],
   "source": [
    "tf = TfidfTransformer(use_idf=False)\n",
    "tfidf = TfidfTransformer(use_idf=True)"
   ]
  },
  {
   "cell_type": "code",
   "execution_count": 26,
   "id": "ba29e15c",
   "metadata": {
    "pycharm": {
     "name": "#%%\n"
    }
   },
   "outputs": [],
   "source": [
    "train_data_tf = tf.fit_transform(train_data)\n",
    "test_data_tf = tf.transform(test_data)\n",
    "\n",
    "train_data_tfidf = tfidf.fit_transform(train_data)\n",
    "test_data_tfidf = tfidf.transform(test_data)"
   ]
  },
  {
   "cell_type": "code",
   "execution_count": 27,
   "id": "58cedc43",
   "metadata": {
    "pycharm": {
     "name": "#%%\n"
    }
   },
   "outputs": [
    {
     "data": {
      "text/plain": [
       "[{'the': 148.86207833224387},\n",
       " {'to': 86.24069806048266},\n",
       " {'of': 78.2528272131044},\n",
       " {'and': 62.57405232529181},\n",
       " {'that': 61.91582724132609},\n",
       " {'is': 58.04952814992369},\n",
       " {'in': 54.30601035917385},\n",
       " {'it': 50.695055313142554},\n",
       " {'you': 47.66881664363077},\n",
       " {'not': 35.309183144321366},\n",
       " {'for': 35.10046683041504},\n",
       " {'this': 32.70420270208634},\n",
       " {'have': 31.709762102532206},\n",
       " {'be': 30.59476801700976},\n",
       " {'on': 29.451538737736513},\n",
       " {'with': 29.234115766232215},\n",
       " {'are': 28.848411519142573},\n",
       " {'as': 28.23696021657093},\n",
       " {'was': 27.34951804295569},\n",
       " {'or': 25.671178548376496}]"
      ]
     },
     "execution_count": 27,
     "metadata": {},
     "output_type": "execute_result"
    }
   ],
   "source": [
    "top_terms_tf = [{term[0]: term[1]} for term in top_terms(vect_without_stop, train_data_tf, 20)]\n",
    "top_terms_tf\n",
    "\n",
    "top_terms_tf_test = [{term[0]: term[1]} for term in top_terms(vect_without_stop, test_data_tf, 20)]\n",
    "top_terms_tf_test\n",
    "\n",
    "top_terms_tfidf = [{term[0]: term[1]} for term in top_terms(vect_without_stop, train_data_tfidf, 20)]\n",
    "top_terms_tfidf\n",
    "\n",
    "top_terms_tfidf_test = [{term[0]: term[1]} for term in top_terms(vect_without_stop, test_data_tfidf, 20)]\n",
    "top_terms_tfidf_test"
   ]
  },
  {
   "cell_type": "markdown",
   "id": "0f6cdc26",
   "metadata": {
    "pycharm": {
     "name": "#%% md\n"
    }
   },
   "source": [
    "#### С использованием стоп-слов"
   ]
  },
  {
   "cell_type": "code",
   "execution_count": 28,
   "id": "0e08cd3d",
   "metadata": {
    "pycharm": {
     "name": "#%%\n"
    }
   },
   "outputs": [],
   "source": [
    "tf = TfidfTransformer(use_idf=False)\n",
    "tfidf = TfidfTransformer(use_idf=True)"
   ]
  },
  {
   "cell_type": "code",
   "execution_count": 29,
   "id": "cee32073",
   "metadata": {
    "pycharm": {
     "name": "#%%\n"
    }
   },
   "outputs": [],
   "source": [
    "train_data_stop_tf = tf.fit_transform(train_data_stop)\n",
    "test_data_stop_tf = tf.transform(test_data_stop)\n",
    "\n",
    "train_data_stop_tfidf = tfidf.fit_transform(train_data_stop)\n",
    "test_data_stop_tfidf = tfidf.transform(test_data_stop)"
   ]
  },
  {
   "cell_type": "code",
   "execution_count": 30,
   "id": "6bab80cb",
   "metadata": {
    "pycharm": {
     "name": "#%%\n"
    }
   },
   "outputs": [
    {
     "data": {
      "text/plain": [
       "[{'god': 27.95497268349866},\n",
       " {'know': 18.542141116243307},\n",
       " {'just': 16.210267240880423},\n",
       " {'does': 16.137672246629286},\n",
       " {'don': 16.033474930641432},\n",
       " {'like': 15.537254867563917},\n",
       " {'think': 14.97705548765351},\n",
       " {'people': 14.195382946062232},\n",
       " {'mac': 13.981210612738836},\n",
       " {'jesus': 12.817753218849594},\n",
       " {'christian': 12.506478769588576},\n",
       " {'church': 12.347646222961615},\n",
       " {'did': 11.951076435168872},\n",
       " {'sin': 11.922112737935514},\n",
       " {'apple': 11.865499882550811},\n",
       " {'monitor': 11.667768613399344},\n",
       " {'time': 11.52942804011032},\n",
       " {'read': 10.626657803538777},\n",
       " {'christ': 10.570073397684714},\n",
       " {'believe': 10.530471367142}]"
      ]
     },
     "execution_count": 30,
     "metadata": {},
     "output_type": "execute_result"
    }
   ],
   "source": [
    "top_terms_stop_tf = [{term[0]: term[1]} for term in top_terms(vect_stop, train_data_stop_tf, 20)]\n",
    "top_terms_stop_tf\n",
    "\n",
    "top_terms_stop_tf_test = [{term[0]: term[1]} for term in top_terms(vect_stop, test_data_stop_tf, 20)]\n",
    "top_terms_stop_tf_test\n",
    "\n",
    "top_terms_stop_tfidf = [{term[0]: term[1]} for term in top_terms(vect_stop, train_data_stop_tfidf, 20)]\n",
    "top_terms_stop_tfidf\n",
    "\n",
    "top_terms_stop_tfidf_test = [{term[0]: term[1]} for term in top_terms(vect_stop, test_data_stop_tfidf, 20)]\n",
    "top_terms_stop_tfidf_test"
   ]
  },
  {
   "cell_type": "markdown",
   "id": "20a412af",
   "metadata": {
    "pycharm": {
     "name": "#%% md\n"
    }
   },
   "source": [
    "#### Со стеммингом без стоп-слов"
   ]
  },
  {
   "cell_type": "code",
   "execution_count": 31,
   "id": "7093aff3",
   "metadata": {
    "pycharm": {
     "name": "#%%\n"
    }
   },
   "outputs": [],
   "source": [
    "tf = TfidfTransformer(use_idf=False)\n",
    "tfidf = TfidfTransformer(use_idf=True)"
   ]
  },
  {
   "cell_type": "code",
   "execution_count": 32,
   "id": "a46a4bdb",
   "metadata": {
    "pycharm": {
     "name": "#%%\n"
    }
   },
   "outputs": [],
   "source": [
    "train_data_stem_tf = tf.fit_transform(train_data_without_stop_stem)\n",
    "test_data_stem_tf = tf.transform(test_data_without_stop_stem)\n",
    "\n",
    "train_data_stem_tfidf = tfidf.fit_transform(train_data_without_stop_stem)\n",
    "test_data_stem_tfidf = tfidf.transform(test_data_without_stop_stem)"
   ]
  },
  {
   "cell_type": "code",
   "execution_count": 33,
   "id": "1b278031",
   "metadata": {
    "pycharm": {
     "name": "#%%\n"
    }
   },
   "outputs": [
    {
     "data": {
      "text/plain": [
       "[{'the': 148.44840163307802},\n",
       " {'to': 86.18185750706422},\n",
       " {'of': 77.96764025564627},\n",
       " {'and': 62.34718973797119},\n",
       " {'that': 61.801008270307904},\n",
       " {'is': 58.55502667880058},\n",
       " {'in': 54.22442872955803},\n",
       " {'it': 52.874155787450924},\n",
       " {'you': 47.98992721956406},\n",
       " {'not': 36.69440941285236},\n",
       " {'for': 35.22027869058943},\n",
       " {'be': 34.71864300028177},\n",
       " {'have': 34.241537522424174},\n",
       " {'thi': 33.153367265959325},\n",
       " {'on': 29.48488130877514},\n",
       " {'with': 29.160656939048575},\n",
       " {'are': 28.988578800351764},\n",
       " {'do': 28.875533246770882},\n",
       " {'as': 27.99019444534268},\n",
       " {'wa': 27.759404376818473}]"
      ]
     },
     "execution_count": 33,
     "metadata": {},
     "output_type": "execute_result"
    }
   ],
   "source": [
    "top_terms_stem_tf = [{term[0]: term[1]} for term in top_terms(vect_stem_without_stop, train_data_stem_tf, 20)]\n",
    "top_terms_stem_tf\n",
    "\n",
    "top_terms_stem_tf_test = [{term[0]: term[1]} for term in top_terms(vect_stem_without_stop, test_data_stem_tf, 20)]\n",
    "top_terms_stem_tf_test\n",
    "\n",
    "top_terms_stem_tfidf = [{term[0]: term[1]} for term in top_terms(vect_stem_without_stop, train_data_stem_tfidf, 20)]\n",
    "top_terms_stem_tfidf\n",
    "\n",
    "top_terms_stem_tfidf_test = [{term[0]: term[1]} for term in top_terms(vect_stem_without_stop, test_data_stem_tfidf, 20)]\n",
    "top_terms_stem_tfidf_test"
   ]
  },
  {
   "cell_type": "markdown",
   "id": "7c54e100",
   "metadata": {
    "pycharm": {
     "name": "#%% md\n"
    }
   },
   "source": [
    "#### Со стеммингом с использованием стоп-слов"
   ]
  },
  {
   "cell_type": "code",
   "execution_count": 34,
   "id": "b2f2d72b",
   "metadata": {
    "pycharm": {
     "name": "#%%\n"
    }
   },
   "outputs": [],
   "source": [
    "tf = TfidfTransformer(use_idf=False)\n",
    "tfidf = TfidfTransformer(use_idf=True)"
   ]
  },
  {
   "cell_type": "code",
   "execution_count": 35,
   "id": "c39743f8",
   "metadata": {
    "pycharm": {
     "name": "#%%\n"
    }
   },
   "outputs": [],
   "source": [
    "train_data_stem_stop_tf = tf.fit_transform(train_data_stop_stem)\n",
    "test_data_stem_stop_tf = tf.transform(test_data_stop_stem)\n",
    "\n",
    "train_data_stem_stop_tfidf = tfidf.fit_transform(train_data_stop_stem)\n",
    "test_data_stem_stop_tfidf = tfidf.transform(test_data_stop_stem)"
   ]
  },
  {
   "cell_type": "code",
   "execution_count": 36,
   "id": "29563dfb",
   "metadata": {
    "pycharm": {
     "name": "#%%\n"
    }
   },
   "outputs": [
    {
     "data": {
      "text/plain": [
       "[{'hazrat': 52.56617814468827},\n",
       " {'merchandis': 37.79665379581945},\n",
       " {'mask': 32.38004562022943},\n",
       " {'dieti': 31.714807369343013},\n",
       " {'di': 31.552249334010018},\n",
       " {'muham': 29.99492088865641},\n",
       " {'undiscuss': 27.996778310542236},\n",
       " {'relativli': 27.570418756826566},\n",
       " {'nobodi': 21.00989194778251},\n",
       " {'uniti': 20.69403326971876},\n",
       " {'magisterieum': 20.010418361950915},\n",
       " {'automat': 19.476981780463902},\n",
       " {'cyru': 18.95344612955057},\n",
       " {'stare': 18.273135374257958},\n",
       " {'aviat': 17.889577615820613},\n",
       " {'wish': 17.380657714430487},\n",
       " {'abomin': 17.14902573648428},\n",
       " {'795': 16.935555097962848},\n",
       " {'prone': 16.60129290675252},\n",
       " {'sgi': 16.25414677898279}]"
      ]
     },
     "execution_count": 36,
     "metadata": {},
     "output_type": "execute_result"
    }
   ],
   "source": [
    "top_terms_stem_stop_tf = [{term[0]: term[1]} for term in top_terms(vect_stem, train_data_stop_tf, 20)]\n",
    "top_terms_stem_stop_tf\n",
    "\n",
    "top_terms_stem_stop_tf_test = [{term[0]: term[1]} for term in top_terms(vect_stem, test_data_stop_tf, 20)]\n",
    "top_terms_stem_stop_tf_test\n",
    "\n",
    "top_terms_stem_stop_tfidf = [{term[0]: term[1]} for term in top_terms(vect_stem, train_data_stop_tf, 20)]\n",
    "top_terms_stem_stop_tfidf\n",
    "\n",
    "top_terms_stem_stop_tfidf_test = [{term[0]: term[1]} for term in top_terms(vect_stem, test_data_stop_tf, 20)]\n",
    "top_terms_stem_stop_tfidf_test"
   ]
  },
  {
   "cell_type": "markdown",
   "id": "a7ec7a5d",
   "metadata": {
    "pycharm": {
     "name": "#%% md\n"
    }
   },
   "source": [
    "### Составление таблицы"
   ]
  },
  {
   "cell_type": "code",
   "execution_count": 37,
   "id": "17759eee",
   "metadata": {
    "pycharm": {
     "name": "#%%\n"
    }
   },
   "outputs": [],
   "source": [
    "import pandas as pd"
   ]
  },
  {
   "cell_type": "code",
   "execution_count": 38,
   "id": "7349d6cf",
   "metadata": {
    "pycharm": {
     "name": "#%%\n"
    }
   },
   "outputs": [],
   "source": [
    "columns = pd.MultiIndex.from_product([['Count', 'TF', 'TF-IDF'], ['Без стоп-слов', 'С стоп-словами']])"
   ]
  },
  {
   "cell_type": "markdown",
   "id": "8792cd68",
   "metadata": {
    "pycharm": {
     "name": "#%% md\n"
    }
   },
   "source": [
    "#### Без стемминга"
   ]
  },
  {
   "cell_type": "code",
   "execution_count": 39,
   "id": "914e3db3",
   "metadata": {
    "pycharm": {
     "name": "#%%\n"
    }
   },
   "outputs": [
    {
     "data": {
      "text/html": [
       "<div>\n",
       "<style scoped>\n",
       "    .dataframe tbody tr th:only-of-type {\n",
       "        vertical-align: middle;\n",
       "    }\n",
       "\n",
       "    .dataframe tbody tr th {\n",
       "        vertical-align: top;\n",
       "    }\n",
       "\n",
       "    .dataframe thead tr th {\n",
       "        text-align: left;\n",
       "    }\n",
       "</style>\n",
       "<table border=\"1\" class=\"dataframe\">\n",
       "  <thead>\n",
       "    <tr>\n",
       "      <th></th>\n",
       "      <th colspan=\"2\" halign=\"left\">Count</th>\n",
       "      <th colspan=\"2\" halign=\"left\">TF</th>\n",
       "      <th colspan=\"2\" halign=\"left\">TF-IDF</th>\n",
       "    </tr>\n",
       "    <tr>\n",
       "      <th></th>\n",
       "      <th>Без стоп-слов</th>\n",
       "      <th>С стоп-словами</th>\n",
       "      <th>Без стоп-слов</th>\n",
       "      <th>С стоп-словами</th>\n",
       "      <th>Без стоп-слов</th>\n",
       "      <th>С стоп-словами</th>\n",
       "    </tr>\n",
       "  </thead>\n",
       "  <tbody>\n",
       "    <tr>\n",
       "      <th>0</th>\n",
       "      <td>{'the': 16652}</td>\n",
       "      <td>{'god': 1427}</td>\n",
       "      <td>{'the': 543.0887145775569}</td>\n",
       "      <td>{'god': 84.04605919516031}</td>\n",
       "      <td>{'the': 215.18803930002346}</td>\n",
       "      <td>{'god': 43.82121116891297}</td>\n",
       "    </tr>\n",
       "    <tr>\n",
       "      <th>1</th>\n",
       "      <td>{'to': 8490}</td>\n",
       "      <td>{'people': 779}</td>\n",
       "      <td>{'to': 286.0938629517631}</td>\n",
       "      <td>{'know': 53.06617041632788}</td>\n",
       "      <td>{'to': 122.86230443612654}</td>\n",
       "      <td>{'jesus': 26.401690904264303}</td>\n",
       "    </tr>\n",
       "    <tr>\n",
       "      <th>2</th>\n",
       "      <td>{'of': 8334}</td>\n",
       "      <td>{'jesus': 722}</td>\n",
       "      <td>{'of': 249.31964725391921}</td>\n",
       "      <td>{'people': 51.461500350700305}</td>\n",
       "      <td>{'of': 113.2408746455194}</td>\n",
       "      <td>{'people': 26.116384920488024}</td>\n",
       "    </tr>\n",
       "    <tr>\n",
       "      <th>3</th>\n",
       "      <td>{'and': 6656}</td>\n",
       "      <td>{'know': 625}</td>\n",
       "      <td>{'and': 209.99355122874857}</td>\n",
       "      <td>{'just': 49.95803872415939}</td>\n",
       "      <td>{'and': 96.00866795656545}</td>\n",
       "      <td>{'know': 25.990836762272973}</td>\n",
       "    </tr>\n",
       "    <tr>\n",
       "      <th>4</th>\n",
       "      <td>{'that': 5747}</td>\n",
       "      <td>{'does': 624}</td>\n",
       "      <td>{'is': 194.50478082296198}</td>\n",
       "      <td>{'does': 47.66231977464952}</td>\n",
       "      <td>{'that': 90.94335853814704}</td>\n",
       "      <td>{'just': 24.554027466416436}</td>\n",
       "    </tr>\n",
       "    <tr>\n",
       "      <th>5</th>\n",
       "      <td>{'is': 5591}</td>\n",
       "      <td>{'just': 586}</td>\n",
       "      <td>{'that': 185.161466645549}</td>\n",
       "      <td>{'don': 45.904856306460154}</td>\n",
       "      <td>{'is': 89.68245849269316}</td>\n",
       "      <td>{'does': 24.159380757560697}</td>\n",
       "    </tr>\n",
       "    <tr>\n",
       "      <th>6</th>\n",
       "      <td>{'in': 4801}</td>\n",
       "      <td>{'don': 571}</td>\n",
       "      <td>{'in': 155.5536983679511}</td>\n",
       "      <td>{'like': 44.557247980439584}</td>\n",
       "      <td>{'in': 75.20695624577941}</td>\n",
       "      <td>{'don': 23.236656368031195}</td>\n",
       "    </tr>\n",
       "    <tr>\n",
       "      <th>7</th>\n",
       "      <td>{'it': 3830}</td>\n",
       "      <td>{'think': 565}</td>\n",
       "      <td>{'it': 141.18074652398246}</td>\n",
       "      <td>{'think': 42.683000298870574}</td>\n",
       "      <td>{'it': 70.64716108495936}</td>\n",
       "      <td>{'like': 22.53936626597992}</td>\n",
       "    </tr>\n",
       "    <tr>\n",
       "      <th>8</th>\n",
       "      <td>{'you': 3092}</td>\n",
       "      <td>{'like': 559}</td>\n",
       "      <td>{'you': 117.98544884456389}</td>\n",
       "      <td>{'jesus': 41.40465459972886}</td>\n",
       "      <td>{'you': 70.267094812125}</td>\n",
       "      <td>{'think': 22.101945828068693}</td>\n",
       "    </tr>\n",
       "    <tr>\n",
       "      <th>9</th>\n",
       "      <td>{'not': 2749}</td>\n",
       "      <td>{'say': 461}</td>\n",
       "      <td>{'for': 105.73857309057988}</td>\n",
       "      <td>{'believe': 31.590391737280633}</td>\n",
       "      <td>{'for': 53.56843356240359}</td>\n",
       "      <td>{'mac': 19.43308741744436}</td>\n",
       "    </tr>\n",
       "    <tr>\n",
       "      <th>10</th>\n",
       "      <td>{'for': 2699}</td>\n",
       "      <td>{'time': 444}</td>\n",
       "      <td>{'this': 89.73752243825957}</td>\n",
       "      <td>{'time': 31.41388463517261}</td>\n",
       "      <td>{'this': 50.75562852683706}</td>\n",
       "      <td>{'believe': 19.378790437446035}</td>\n",
       "    </tr>\n",
       "    <tr>\n",
       "      <th>11</th>\n",
       "      <td>{'this': 2486}</td>\n",
       "      <td>{'believe': 437}</td>\n",
       "      <td>{'not': 86.13716438441566}</td>\n",
       "      <td>{'good': 29.98678066435632}</td>\n",
       "      <td>{'not': 50.09016544368851}</td>\n",
       "      <td>{'christian': 17.988599957072733}</td>\n",
       "    </tr>\n",
       "    <tr>\n",
       "      <th>12</th>\n",
       "      <td>{'be': 2316}</td>\n",
       "      <td>{'good': 416}</td>\n",
       "      <td>{'be': 84.021549942572}</td>\n",
       "      <td>{'say': 29.883715281817828}</td>\n",
       "      <td>{'be': 47.79328531321388}</td>\n",
       "      <td>{'say': 17.32450731690708}</td>\n",
       "    </tr>\n",
       "    <tr>\n",
       "      <th>13</th>\n",
       "      <td>{'are': 2220}</td>\n",
       "      <td>{'church': 414}</td>\n",
       "      <td>{'have': 82.5414991960181}</td>\n",
       "      <td>{'mac': 29.593860305546464}</td>\n",
       "      <td>{'are': 45.58237270450893}</td>\n",
       "      <td>{'good': 17.28507445229634}</td>\n",
       "    </tr>\n",
       "    <tr>\n",
       "      <th>14</th>\n",
       "      <td>{'have': 2166}</td>\n",
       "      <td>{'bible': 411}</td>\n",
       "      <td>{'with': 78.72180061552618}</td>\n",
       "      <td>{'christian': 28.097482333068694}</td>\n",
       "      <td>{'have': 45.302196085167424}</td>\n",
       "      <td>{'time': 17.23652678997511}</td>\n",
       "    </tr>\n",
       "    <tr>\n",
       "      <th>15</th>\n",
       "      <td>{'as': 2136}</td>\n",
       "      <td>{'christian': 396}</td>\n",
       "      <td>{'are': 75.29563703121633}</td>\n",
       "      <td>{'use': 27.373307702686343}</td>\n",
       "      <td>{'with': 42.98742534542351}</td>\n",
       "      <td>{'christians': 17.137530582992603}</td>\n",
       "    </tr>\n",
       "    <tr>\n",
       "      <th>16</th>\n",
       "      <td>{'with': 2071}</td>\n",
       "      <td>{'way': 377}</td>\n",
       "      <td>{'on': 70.41570789025904}</td>\n",
       "      <td>{'way': 25.76215334315875}</td>\n",
       "      <td>{'as': 41.569249901325044}</td>\n",
       "      <td>{'bible': 16.90297950194337}</td>\n",
       "    </tr>\n",
       "    <tr>\n",
       "      <th>17</th>\n",
       "      <td>{'on': 1823}</td>\n",
       "      <td>{'christ': 373}</td>\n",
       "      <td>{'if': 65.83106887666393}</td>\n",
       "      <td>{'problem': 25.573089707965188}</td>\n",
       "      <td>{'on': 39.87771437760014}</td>\n",
       "      <td>{'apple': 16.555927890043925}</td>\n",
       "    </tr>\n",
       "    <tr>\n",
       "      <th>18</th>\n",
       "      <td>{'but': 1818}</td>\n",
       "      <td>{'did': 373}</td>\n",
       "      <td>{'but': 64.7675841529437}</td>\n",
       "      <td>{'christians': 25.446644491594235}</td>\n",
       "      <td>{'if': 38.47381716307315}</td>\n",
       "      <td>{'church': 16.50243190133636}</td>\n",
       "    </tr>\n",
       "    <tr>\n",
       "      <th>19</th>\n",
       "      <td>{'was': 1622}</td>\n",
       "      <td>{'christians': 333}</td>\n",
       "      <td>{'as': 63.60347816394421}</td>\n",
       "      <td>{'bible': 25.228516436347924}</td>\n",
       "      <td>{'but': 38.129554444839656}</td>\n",
       "      <td>{'thanks': 16.34820801151869}</td>\n",
       "    </tr>\n",
       "  </tbody>\n",
       "</table>\n",
       "</div>"
      ],
      "text/plain": [
       "             Count                                                TF  \\\n",
       "     Без стоп-слов       С стоп-словами                Без стоп-слов   \n",
       "0   {'the': 16652}        {'god': 1427}   {'the': 543.0887145775569}   \n",
       "1     {'to': 8490}      {'people': 779}    {'to': 286.0938629517631}   \n",
       "2     {'of': 8334}       {'jesus': 722}   {'of': 249.31964725391921}   \n",
       "3    {'and': 6656}        {'know': 625}  {'and': 209.99355122874857}   \n",
       "4   {'that': 5747}        {'does': 624}   {'is': 194.50478082296198}   \n",
       "5     {'is': 5591}        {'just': 586}   {'that': 185.161466645549}   \n",
       "6     {'in': 4801}         {'don': 571}    {'in': 155.5536983679511}   \n",
       "7     {'it': 3830}       {'think': 565}   {'it': 141.18074652398246}   \n",
       "8    {'you': 3092}        {'like': 559}  {'you': 117.98544884456389}   \n",
       "9    {'not': 2749}         {'say': 461}  {'for': 105.73857309057988}   \n",
       "10   {'for': 2699}        {'time': 444}  {'this': 89.73752243825957}   \n",
       "11  {'this': 2486}     {'believe': 437}   {'not': 86.13716438441566}   \n",
       "12    {'be': 2316}        {'good': 416}      {'be': 84.021549942572}   \n",
       "13   {'are': 2220}      {'church': 414}   {'have': 82.5414991960181}   \n",
       "14  {'have': 2166}       {'bible': 411}  {'with': 78.72180061552618}   \n",
       "15    {'as': 2136}   {'christian': 396}   {'are': 75.29563703121633}   \n",
       "16  {'with': 2071}         {'way': 377}    {'on': 70.41570789025904}   \n",
       "17    {'on': 1823}      {'christ': 373}    {'if': 65.83106887666393}   \n",
       "18   {'but': 1818}         {'did': 373}    {'but': 64.7675841529437}   \n",
       "19   {'was': 1622}  {'christians': 333}    {'as': 63.60347816394421}   \n",
       "\n",
       "                                                              TF-IDF  \\\n",
       "                        С стоп-словами                 Без стоп-слов   \n",
       "0           {'god': 84.04605919516031}   {'the': 215.18803930002346}   \n",
       "1          {'know': 53.06617041632788}    {'to': 122.86230443612654}   \n",
       "2       {'people': 51.461500350700305}     {'of': 113.2408746455194}   \n",
       "3          {'just': 49.95803872415939}    {'and': 96.00866795656545}   \n",
       "4          {'does': 47.66231977464952}   {'that': 90.94335853814704}   \n",
       "5          {'don': 45.904856306460154}     {'is': 89.68245849269316}   \n",
       "6         {'like': 44.557247980439584}     {'in': 75.20695624577941}   \n",
       "7        {'think': 42.683000298870574}     {'it': 70.64716108495936}   \n",
       "8         {'jesus': 41.40465459972886}      {'you': 70.267094812125}   \n",
       "9      {'believe': 31.590391737280633}    {'for': 53.56843356240359}   \n",
       "10         {'time': 31.41388463517261}   {'this': 50.75562852683706}   \n",
       "11         {'good': 29.98678066435632}    {'not': 50.09016544368851}   \n",
       "12         {'say': 29.883715281817828}     {'be': 47.79328531321388}   \n",
       "13         {'mac': 29.593860305546464}    {'are': 45.58237270450893}   \n",
       "14   {'christian': 28.097482333068694}  {'have': 45.302196085167424}   \n",
       "15         {'use': 27.373307702686343}   {'with': 42.98742534542351}   \n",
       "16          {'way': 25.76215334315875}    {'as': 41.569249901325044}   \n",
       "17     {'problem': 25.573089707965188}     {'on': 39.87771437760014}   \n",
       "18  {'christians': 25.446644491594235}     {'if': 38.47381716307315}   \n",
       "19       {'bible': 25.228516436347924}   {'but': 38.129554444839656}   \n",
       "\n",
       "                                        \n",
       "                        С стоп-словами  \n",
       "0           {'god': 43.82121116891297}  \n",
       "1        {'jesus': 26.401690904264303}  \n",
       "2       {'people': 26.116384920488024}  \n",
       "3         {'know': 25.990836762272973}  \n",
       "4         {'just': 24.554027466416436}  \n",
       "5         {'does': 24.159380757560697}  \n",
       "6          {'don': 23.236656368031195}  \n",
       "7          {'like': 22.53936626597992}  \n",
       "8        {'think': 22.101945828068693}  \n",
       "9           {'mac': 19.43308741744436}  \n",
       "10     {'believe': 19.378790437446035}  \n",
       "11   {'christian': 17.988599957072733}  \n",
       "12          {'say': 17.32450731690708}  \n",
       "13         {'good': 17.28507445229634}  \n",
       "14         {'time': 17.23652678997511}  \n",
       "15  {'christians': 17.137530582992603}  \n",
       "16        {'bible': 16.90297950194337}  \n",
       "17       {'apple': 16.555927890043925}  \n",
       "18       {'church': 16.50243190133636}  \n",
       "19       {'thanks': 16.34820801151869}  "
      ]
     },
     "execution_count": 39,
     "metadata": {},
     "output_type": "execute_result"
    }
   ],
   "source": [
    "df1 = pd.DataFrame(columns=columns)\n",
    "\n",
    "df1['Count', 'Без стоп-слов'] = top_terms_without_stop\n",
    "df1['TF', 'Без стоп-слов'] = top_terms_tf\n",
    "df1['TF-IDF', 'Без стоп-слов'] = top_terms_tfidf\n",
    "\n",
    "df1['Count', 'С стоп-словами'] = top_terms_stop\n",
    "df1['TF', 'С стоп-словами'] = top_terms_stop_tf\n",
    "df1['TF-IDF', 'С стоп-словами'] = top_terms_stop_tfidf\n",
    "\n",
    "df1"
   ]
  },
  {
   "cell_type": "code",
   "execution_count": 40,
   "id": "80a5abd1",
   "metadata": {
    "pycharm": {
     "name": "#%%\n"
    }
   },
   "outputs": [
    {
     "data": {
      "text/html": [
       "<div>\n",
       "<style scoped>\n",
       "    .dataframe tbody tr th:only-of-type {\n",
       "        vertical-align: middle;\n",
       "    }\n",
       "\n",
       "    .dataframe tbody tr th {\n",
       "        vertical-align: top;\n",
       "    }\n",
       "\n",
       "    .dataframe thead tr th {\n",
       "        text-align: left;\n",
       "    }\n",
       "</style>\n",
       "<table border=\"1\" class=\"dataframe\">\n",
       "  <thead>\n",
       "    <tr>\n",
       "      <th></th>\n",
       "      <th colspan=\"2\" halign=\"left\">Count</th>\n",
       "      <th colspan=\"2\" halign=\"left\">TF</th>\n",
       "      <th colspan=\"2\" halign=\"left\">TF-IDF</th>\n",
       "    </tr>\n",
       "    <tr>\n",
       "      <th></th>\n",
       "      <th>Без стоп-слов</th>\n",
       "      <th>С стоп-словами</th>\n",
       "      <th>Без стоп-слов</th>\n",
       "      <th>С стоп-словами</th>\n",
       "      <th>Без стоп-слов</th>\n",
       "      <th>С стоп-словами</th>\n",
       "    </tr>\n",
       "  </thead>\n",
       "  <tbody>\n",
       "    <tr>\n",
       "      <th>0</th>\n",
       "      <td>{'the': 12380}</td>\n",
       "      <td>{'god': 1108}</td>\n",
       "      <td>{'the': 364.8095702637773}</td>\n",
       "      <td>{'god': 52.56617814468827}</td>\n",
       "      <td>{'the': 148.86207833224387}</td>\n",
       "      <td>{'god': 27.95497268349866}</td>\n",
       "    </tr>\n",
       "    <tr>\n",
       "      <th>1</th>\n",
       "      <td>{'to': 6270}</td>\n",
       "      <td>{'people': 471}</td>\n",
       "      <td>{'to': 197.36462753116095}</td>\n",
       "      <td>{'know': 37.79665379581945}</td>\n",
       "      <td>{'to': 86.24069806048266}</td>\n",
       "      <td>{'know': 18.542141116243307}</td>\n",
       "    </tr>\n",
       "    <tr>\n",
       "      <th>2</th>\n",
       "      <td>{'of': 6251}</td>\n",
       "      <td>{'know': 424}</td>\n",
       "      <td>{'of': 166.55696621672018}</td>\n",
       "      <td>{'just': 32.38004562022943}</td>\n",
       "      <td>{'of': 78.2528272131044}</td>\n",
       "      <td>{'just': 16.210267240880423}</td>\n",
       "    </tr>\n",
       "    <tr>\n",
       "      <th>3</th>\n",
       "      <td>{'and': 4764}</td>\n",
       "      <td>{'don': 385}</td>\n",
       "      <td>{'and': 133.468347925069}</td>\n",
       "      <td>{'don': 31.714807369343013}</td>\n",
       "      <td>{'and': 62.57405232529181}</td>\n",
       "      <td>{'does': 16.137672246629286}</td>\n",
       "    </tr>\n",
       "    <tr>\n",
       "      <th>4</th>\n",
       "      <td>{'that': 3928}</td>\n",
       "      <td>{'just': 380}</td>\n",
       "      <td>{'that': 124.37884585010595}</td>\n",
       "      <td>{'does': 31.552249334010018}</td>\n",
       "      <td>{'that': 61.91582724132609}</td>\n",
       "      <td>{'don': 16.033474930641432}</td>\n",
       "    </tr>\n",
       "    <tr>\n",
       "      <th>5</th>\n",
       "      <td>{'is': 3902}</td>\n",
       "      <td>{'does': 378}</td>\n",
       "      <td>{'is': 121.71255438787193}</td>\n",
       "      <td>{'like': 29.99492088865641}</td>\n",
       "      <td>{'is': 58.04952814992369}</td>\n",
       "      <td>{'like': 15.537254867563917}</td>\n",
       "    </tr>\n",
       "    <tr>\n",
       "      <th>6</th>\n",
       "      <td>{'in': 3771}</td>\n",
       "      <td>{'like': 375}</td>\n",
       "      <td>{'in': 107.7277527155332}</td>\n",
       "      <td>{'think': 27.996778310542236}</td>\n",
       "      <td>{'in': 54.30601035917385}</td>\n",
       "      <td>{'think': 14.97705548765351}</td>\n",
       "    </tr>\n",
       "    <tr>\n",
       "      <th>7</th>\n",
       "      <td>{'it': 2684}</td>\n",
       "      <td>{'jesus': 368}</td>\n",
       "      <td>{'it': 99.81441760032114}</td>\n",
       "      <td>{'people': 27.570418756826566}</td>\n",
       "      <td>{'it': 50.695055313142554}</td>\n",
       "      <td>{'people': 14.195382946062232}</td>\n",
       "    </tr>\n",
       "    <tr>\n",
       "      <th>8</th>\n",
       "      <td>{'you': 2165}</td>\n",
       "      <td>{'christ': 367}</td>\n",
       "      <td>{'you': 79.20779132071978}</td>\n",
       "      <td>{'mac': 21.00989194778251}</td>\n",
       "      <td>{'you': 47.66881664363077}</td>\n",
       "      <td>{'mac': 13.981210612738836}</td>\n",
       "    </tr>\n",
       "    <tr>\n",
       "      <th>9</th>\n",
       "      <td>{'not': 1933}</td>\n",
       "      <td>{'think': 343}</td>\n",
       "      <td>{'for': 67.78077562867219}</td>\n",
       "      <td>{'time': 20.69403326971876}</td>\n",
       "      <td>{'not': 35.309183144321366}</td>\n",
       "      <td>{'jesus': 12.817753218849594}</td>\n",
       "    </tr>\n",
       "    <tr>\n",
       "      <th>10</th>\n",
       "      <td>{'for': 1839}</td>\n",
       "      <td>{'church': 307}</td>\n",
       "      <td>{'not': 59.84862781060529}</td>\n",
       "      <td>{'jesus': 20.010418361950915}</td>\n",
       "      <td>{'for': 35.10046683041504}</td>\n",
       "      <td>{'christian': 12.506478769588576}</td>\n",
       "    </tr>\n",
       "    <tr>\n",
       "      <th>11</th>\n",
       "      <td>{'this': 1688}</td>\n",
       "      <td>{'time': 301}</td>\n",
       "      <td>{'have': 56.67244054149067}</td>\n",
       "      <td>{'christian': 19.476981780463902}</td>\n",
       "      <td>{'this': 32.70420270208634}</td>\n",
       "      <td>{'church': 12.347646222961615}</td>\n",
       "    </tr>\n",
       "    <tr>\n",
       "      <th>12</th>\n",
       "      <td>{'be': 1600}</td>\n",
       "      <td>{'lord': 298}</td>\n",
       "      <td>{'this': 56.440703899829245}</td>\n",
       "      <td>{'did': 18.95344612955057}</td>\n",
       "      <td>{'have': 31.709762102532206}</td>\n",
       "      <td>{'did': 11.951076435168872}</td>\n",
       "    </tr>\n",
       "    <tr>\n",
       "      <th>13</th>\n",
       "      <td>{'as': 1579}</td>\n",
       "      <td>{'say': 287}</td>\n",
       "      <td>{'be': 52.411421997778284}</td>\n",
       "      <td>{'say': 18.273135374257958}</td>\n",
       "      <td>{'be': 30.59476801700976}</td>\n",
       "      <td>{'sin': 11.922112737935514}</td>\n",
       "    </tr>\n",
       "    <tr>\n",
       "      <th>14</th>\n",
       "      <td>{'are': 1534}</td>\n",
       "      <td>{'did': 269}</td>\n",
       "      <td>{'on': 51.36403034174104}</td>\n",
       "      <td>{'church': 17.889577615820613}</td>\n",
       "      <td>{'on': 29.451538737736513}</td>\n",
       "      <td>{'apple': 11.865499882550811}</td>\n",
       "    </tr>\n",
       "    <tr>\n",
       "      <th>15</th>\n",
       "      <td>{'have': 1479}</td>\n",
       "      <td>{'christian': 268}</td>\n",
       "      <td>{'with': 50.75947933208338}</td>\n",
       "      <td>{'way': 17.380657714430487}</td>\n",
       "      <td>{'with': 29.234115766232215}</td>\n",
       "      <td>{'monitor': 11.667768613399344}</td>\n",
       "    </tr>\n",
       "    <tr>\n",
       "      <th>16</th>\n",
       "      <td>{'with': 1475}</td>\n",
       "      <td>{'bible': 267}</td>\n",
       "      <td>{'are': 45.60043873793938}</td>\n",
       "      <td>{'believe': 17.14902573648428}</td>\n",
       "      <td>{'are': 28.848411519142573}</td>\n",
       "      <td>{'time': 11.52942804011032}</td>\n",
       "    </tr>\n",
       "    <tr>\n",
       "      <th>17</th>\n",
       "      <td>{'on': 1351}</td>\n",
       "      <td>{'believe': 264}</td>\n",
       "      <td>{'as': 41.77266737924603}</td>\n",
       "      <td>{'apple': 16.935555097962848}</td>\n",
       "      <td>{'as': 28.23696021657093}</td>\n",
       "      <td>{'read': 10.626657803538777}</td>\n",
       "    </tr>\n",
       "    <tr>\n",
       "      <th>18</th>\n",
       "      <td>{'but': 1136}</td>\n",
       "      <td>{'sin': 259}</td>\n",
       "      <td>{'if': 39.598719691654146}</td>\n",
       "      <td>{'new': 16.60129290675252}</td>\n",
       "      <td>{'was': 27.34951804295569}</td>\n",
       "      <td>{'christ': 10.570073397684714}</td>\n",
       "    </tr>\n",
       "    <tr>\n",
       "      <th>19</th>\n",
       "      <td>{'or': 1132}</td>\n",
       "      <td>{'mac': 255}</td>\n",
       "      <td>{'but': 39.57916126789582}</td>\n",
       "      <td>{'read': 16.25414677898279}</td>\n",
       "      <td>{'or': 25.671178548376496}</td>\n",
       "      <td>{'believe': 10.530471367142}</td>\n",
       "    </tr>\n",
       "  </tbody>\n",
       "</table>\n",
       "</div>"
      ],
      "text/plain": [
       "             Count                                                TF  \\\n",
       "     Без стоп-слов      С стоп-словами                 Без стоп-слов   \n",
       "0   {'the': 12380}       {'god': 1108}    {'the': 364.8095702637773}   \n",
       "1     {'to': 6270}     {'people': 471}    {'to': 197.36462753116095}   \n",
       "2     {'of': 6251}       {'know': 424}    {'of': 166.55696621672018}   \n",
       "3    {'and': 4764}        {'don': 385}     {'and': 133.468347925069}   \n",
       "4   {'that': 3928}       {'just': 380}  {'that': 124.37884585010595}   \n",
       "5     {'is': 3902}       {'does': 378}    {'is': 121.71255438787193}   \n",
       "6     {'in': 3771}       {'like': 375}     {'in': 107.7277527155332}   \n",
       "7     {'it': 2684}      {'jesus': 368}     {'it': 99.81441760032114}   \n",
       "8    {'you': 2165}     {'christ': 367}    {'you': 79.20779132071978}   \n",
       "9    {'not': 1933}      {'think': 343}    {'for': 67.78077562867219}   \n",
       "10   {'for': 1839}     {'church': 307}    {'not': 59.84862781060529}   \n",
       "11  {'this': 1688}       {'time': 301}   {'have': 56.67244054149067}   \n",
       "12    {'be': 1600}       {'lord': 298}  {'this': 56.440703899829245}   \n",
       "13    {'as': 1579}        {'say': 287}    {'be': 52.411421997778284}   \n",
       "14   {'are': 1534}        {'did': 269}     {'on': 51.36403034174104}   \n",
       "15  {'have': 1479}  {'christian': 268}   {'with': 50.75947933208338}   \n",
       "16  {'with': 1475}      {'bible': 267}    {'are': 45.60043873793938}   \n",
       "17    {'on': 1351}    {'believe': 264}     {'as': 41.77266737924603}   \n",
       "18   {'but': 1136}        {'sin': 259}    {'if': 39.598719691654146}   \n",
       "19    {'or': 1132}        {'mac': 255}    {'but': 39.57916126789582}   \n",
       "\n",
       "                                                             TF-IDF  \\\n",
       "                       С стоп-словами                 Без стоп-слов   \n",
       "0          {'god': 52.56617814468827}   {'the': 148.86207833224387}   \n",
       "1         {'know': 37.79665379581945}     {'to': 86.24069806048266}   \n",
       "2         {'just': 32.38004562022943}      {'of': 78.2528272131044}   \n",
       "3         {'don': 31.714807369343013}    {'and': 62.57405232529181}   \n",
       "4        {'does': 31.552249334010018}   {'that': 61.91582724132609}   \n",
       "5         {'like': 29.99492088865641}     {'is': 58.04952814992369}   \n",
       "6       {'think': 27.996778310542236}     {'in': 54.30601035917385}   \n",
       "7      {'people': 27.570418756826566}    {'it': 50.695055313142554}   \n",
       "8          {'mac': 21.00989194778251}    {'you': 47.66881664363077}   \n",
       "9         {'time': 20.69403326971876}   {'not': 35.309183144321366}   \n",
       "10      {'jesus': 20.010418361950915}    {'for': 35.10046683041504}   \n",
       "11  {'christian': 19.476981780463902}   {'this': 32.70420270208634}   \n",
       "12         {'did': 18.95344612955057}  {'have': 31.709762102532206}   \n",
       "13        {'say': 18.273135374257958}     {'be': 30.59476801700976}   \n",
       "14     {'church': 17.889577615820613}    {'on': 29.451538737736513}   \n",
       "15        {'way': 17.380657714430487}  {'with': 29.234115766232215}   \n",
       "16     {'believe': 17.14902573648428}   {'are': 28.848411519142573}   \n",
       "17      {'apple': 16.935555097962848}     {'as': 28.23696021657093}   \n",
       "18         {'new': 16.60129290675252}    {'was': 27.34951804295569}   \n",
       "19        {'read': 16.25414677898279}    {'or': 25.671178548376496}   \n",
       "\n",
       "                                       \n",
       "                       С стоп-словами  \n",
       "0          {'god': 27.95497268349866}  \n",
       "1        {'know': 18.542141116243307}  \n",
       "2        {'just': 16.210267240880423}  \n",
       "3        {'does': 16.137672246629286}  \n",
       "4         {'don': 16.033474930641432}  \n",
       "5        {'like': 15.537254867563917}  \n",
       "6        {'think': 14.97705548765351}  \n",
       "7      {'people': 14.195382946062232}  \n",
       "8         {'mac': 13.981210612738836}  \n",
       "9       {'jesus': 12.817753218849594}  \n",
       "10  {'christian': 12.506478769588576}  \n",
       "11     {'church': 12.347646222961615}  \n",
       "12        {'did': 11.951076435168872}  \n",
       "13        {'sin': 11.922112737935514}  \n",
       "14      {'apple': 11.865499882550811}  \n",
       "15    {'monitor': 11.667768613399344}  \n",
       "16        {'time': 11.52942804011032}  \n",
       "17       {'read': 10.626657803538777}  \n",
       "18     {'christ': 10.570073397684714}  \n",
       "19       {'believe': 10.530471367142}  "
      ]
     },
     "execution_count": 40,
     "metadata": {},
     "output_type": "execute_result"
    }
   ],
   "source": [
    "df2 = pd.DataFrame(columns=columns)\n",
    "\n",
    "df2['Count', 'Без стоп-слов'] = top_terms_without_stop_test\n",
    "df2['TF', 'Без стоп-слов'] = top_terms_tf_test\n",
    "df2['TF-IDF', 'Без стоп-слов'] = top_terms_tfidf_test\n",
    "\n",
    "df2['Count', 'С стоп-словами'] = top_terms_stop_test\n",
    "df2['TF', 'С стоп-словами'] = top_terms_stop_tf_test\n",
    "df2['TF-IDF', 'С стоп-словами'] = top_terms_stop_tfidf_test\n",
    "\n",
    "df2"
   ]
  },
  {
   "cell_type": "markdown",
   "id": "8856b13e",
   "metadata": {
    "pycharm": {
     "name": "#%% md\n"
    }
   },
   "source": [
    "#### Со стеммингом"
   ]
  },
  {
   "cell_type": "code",
   "execution_count": 41,
   "id": "fdd43015",
   "metadata": {
    "pycharm": {
     "name": "#%%\n"
    }
   },
   "outputs": [
    {
     "data": {
      "text/html": [
       "<div>\n",
       "<style scoped>\n",
       "    .dataframe tbody tr th:only-of-type {\n",
       "        vertical-align: middle;\n",
       "    }\n",
       "\n",
       "    .dataframe tbody tr th {\n",
       "        vertical-align: top;\n",
       "    }\n",
       "\n",
       "    .dataframe thead tr th {\n",
       "        text-align: left;\n",
       "    }\n",
       "</style>\n",
       "<table border=\"1\" class=\"dataframe\">\n",
       "  <thead>\n",
       "    <tr>\n",
       "      <th></th>\n",
       "      <th colspan=\"2\" halign=\"left\">Count</th>\n",
       "      <th colspan=\"2\" halign=\"left\">TF</th>\n",
       "      <th colspan=\"2\" halign=\"left\">TF-IDF</th>\n",
       "    </tr>\n",
       "    <tr>\n",
       "      <th></th>\n",
       "      <th>Без стоп-слов</th>\n",
       "      <th>С стоп-словами</th>\n",
       "      <th>Без стоп-слов</th>\n",
       "      <th>С стоп-словами</th>\n",
       "      <th>Без стоп-слов</th>\n",
       "      <th>С стоп-словами</th>\n",
       "    </tr>\n",
       "  </thead>\n",
       "  <tbody>\n",
       "    <tr>\n",
       "      <th>0</th>\n",
       "      <td>{'the': 16651}</td>\n",
       "      <td>{'thi': 2494}</td>\n",
       "      <td>{'the': 533.6024042368656}</td>\n",
       "      <td>{'hazrat': 84.04605919516031}</td>\n",
       "      <td>{'the': 216.64166617238433}</td>\n",
       "      <td>{'hazrat': 84.04605919516031}</td>\n",
       "    </tr>\n",
       "    <tr>\n",
       "      <th>1</th>\n",
       "      <td>{'to': 8490}</td>\n",
       "      <td>{'wa': 1669}</td>\n",
       "      <td>{'to': 280.79790354201583}</td>\n",
       "      <td>{'merchandis': 53.06617041632788}</td>\n",
       "      <td>{'to': 124.00623302448895}</td>\n",
       "      <td>{'merchandis': 53.06617041632788}</td>\n",
       "    </tr>\n",
       "    <tr>\n",
       "      <th>2</th>\n",
       "      <td>{'of': 8334}</td>\n",
       "      <td>{'god': 1453}</td>\n",
       "      <td>{'of': 244.9348757517005}</td>\n",
       "      <td>{'relativli': 51.461500350700305}</td>\n",
       "      <td>{'of': 114.05132687333837}</td>\n",
       "      <td>{'relativli': 51.461500350700305}</td>\n",
       "    </tr>\n",
       "    <tr>\n",
       "      <th>3</th>\n",
       "      <td>{'and': 6657}</td>\n",
       "      <td>{'hi': 1004}</td>\n",
       "      <td>{'and': 206.1233106003709}</td>\n",
       "      <td>{'mask': 49.95803872415939}</td>\n",
       "      <td>{'and': 96.67208703969094}</td>\n",
       "      <td>{'mask': 49.95803872415939}</td>\n",
       "    </tr>\n",
       "    <tr>\n",
       "      <th>4</th>\n",
       "      <td>{'that': 5748}</td>\n",
       "      <td>{'christian': 909}</td>\n",
       "      <td>{'is': 194.3722816360924}</td>\n",
       "      <td>{'di': 47.66231977464952}</td>\n",
       "      <td>{'that': 91.9081519574775}</td>\n",
       "      <td>{'di': 47.66231977464952}</td>\n",
       "    </tr>\n",
       "    <tr>\n",
       "      <th>5</th>\n",
       "      <td>{'is': 5686}</td>\n",
       "      <td>{'ha': 867}</td>\n",
       "      <td>{'that': 181.67024370851857}</td>\n",
       "      <td>{'dieti': 45.904856306460154}</td>\n",
       "      <td>{'is': 91.65225243008739}</td>\n",
       "      <td>{'dieti': 45.904856306460154}</td>\n",
       "    </tr>\n",
       "    <tr>\n",
       "      <th>6</th>\n",
       "      <td>{'in': 4801}</td>\n",
       "      <td>{'doe': 788}</td>\n",
       "      <td>{'in': 152.53476815361205}</td>\n",
       "      <td>{'muham': 44.557247980439584}</td>\n",
       "      <td>{'in': 75.5050120617292}</td>\n",
       "      <td>{'muham': 44.557247980439584}</td>\n",
       "    </tr>\n",
       "    <tr>\n",
       "      <th>7</th>\n",
       "      <td>{'it': 4087}</td>\n",
       "      <td>{'peopl': 785}</td>\n",
       "      <td>{'it': 146.0633678113764}</td>\n",
       "      <td>{'undiscuss': 42.683000298870574}</td>\n",
       "      <td>{'it': 74.18016258094475}</td>\n",
       "      <td>{'undiscuss': 42.683000298870574}</td>\n",
       "    </tr>\n",
       "    <tr>\n",
       "      <th>8</th>\n",
       "      <td>{'you': 3091}</td>\n",
       "      <td>{'say': 759}</td>\n",
       "      <td>{'you': 115.83370128734639}</td>\n",
       "      <td>{'magisterieum': 41.40465459972886}</td>\n",
       "      <td>{'you': 70.98559082363474}</td>\n",
       "      <td>{'magisterieum': 41.40465459972886}</td>\n",
       "    </tr>\n",
       "    <tr>\n",
       "      <th>9</th>\n",
       "      <td>{'not': 2921}</td>\n",
       "      <td>{'use': 731}</td>\n",
       "      <td>{'for': 103.80770583846451}</td>\n",
       "      <td>{'abomin': 31.590391737280633}</td>\n",
       "      <td>{'for': 54.01225755326821}</td>\n",
       "      <td>{'abomin': 31.590391737280633}</td>\n",
       "    </tr>\n",
       "    <tr>\n",
       "      <th>10</th>\n",
       "      <td>{'be': 2723}</td>\n",
       "      <td>{'know': 720}</td>\n",
       "      <td>{'be': 93.93792886919096}</td>\n",
       "      <td>{'uniti': 31.41388463517261}</td>\n",
       "      <td>{'be': 53.347885440854434}</td>\n",
       "      <td>{'uniti': 31.41388463517261}</td>\n",
       "    </tr>\n",
       "    <tr>\n",
       "      <th>11</th>\n",
       "      <td>{'for': 2699}</td>\n",
       "      <td>{'jesu': 716}</td>\n",
       "      <td>{'not': 89.13474917240082}</td>\n",
       "      <td>{'heat': 29.98678066435632}</td>\n",
       "      <td>{'not': 52.92993046720662}</td>\n",
       "      <td>{'heat': 29.98678066435632}</td>\n",
       "    </tr>\n",
       "    <tr>\n",
       "      <th>12</th>\n",
       "      <td>{'thi': 2494}</td>\n",
       "      <td>{'think': 659}</td>\n",
       "      <td>{'thi': 88.44240833356106}</td>\n",
       "      <td>{'stare': 29.883715281817828}</td>\n",
       "      <td>{'thi': 51.466855199772894}</td>\n",
       "      <td>{'stare': 29.883715281817828}</td>\n",
       "    </tr>\n",
       "    <tr>\n",
       "      <th>13</th>\n",
       "      <td>{'have': 2332}</td>\n",
       "      <td>{'ani': 658}</td>\n",
       "      <td>{'have': 87.30612987422288}</td>\n",
       "      <td>{'nobodi': 29.593860305546464}</td>\n",
       "      <td>{'have': 48.22745458111488}</td>\n",
       "      <td>{'nobodi': 29.593860305546464}</td>\n",
       "    </tr>\n",
       "    <tr>\n",
       "      <th>14</th>\n",
       "      <td>{'are': 2261}</td>\n",
       "      <td>{'onli': 625}</td>\n",
       "      <td>{'with': 77.19469611884804}</td>\n",
       "      <td>{'automat': 28.097482333068694}</td>\n",
       "      <td>{'are': 46.82287154841494}</td>\n",
       "      <td>{'automat': 28.097482333068694}</td>\n",
       "    </tr>\n",
       "    <tr>\n",
       "      <th>15</th>\n",
       "      <td>{'as': 2134}</td>\n",
       "      <td>{'like': 613}</td>\n",
       "      <td>{'are': 75.68404303725856}</td>\n",
       "      <td>{'vp': 27.373307702686343}</td>\n",
       "      <td>{'with': 43.31005469740532}</td>\n",
       "      <td>{'vp': 27.373307702686343}</td>\n",
       "    </tr>\n",
       "    <tr>\n",
       "      <th>16</th>\n",
       "      <td>{'with': 2071}</td>\n",
       "      <td>{'believ': 599}</td>\n",
       "      <td>{'on': 69.42025813969494}</td>\n",
       "      <td>{'wish': 25.76215334315875}</td>\n",
       "      <td>{'as': 41.801909793427605}</td>\n",
       "      <td>{'wish': 25.76215334315875}</td>\n",
       "    </tr>\n",
       "    <tr>\n",
       "      <th>17</th>\n",
       "      <td>{'do': 1828}</td>\n",
       "      <td>{'just': 586}</td>\n",
       "      <td>{'do': 65.4990726142797}</td>\n",
       "      <td>{'sall': 25.573089707965188}</td>\n",
       "      <td>{'do': 41.33281243586461}</td>\n",
       "      <td>{'sall': 25.573089707965188}</td>\n",
       "    </tr>\n",
       "    <tr>\n",
       "      <th>18</th>\n",
       "      <td>{'on': 1828}</td>\n",
       "      <td>{'time': 532}</td>\n",
       "      <td>{'if': 64.51634873919015}</td>\n",
       "      <td>{'avail': 25.446644491594235}</td>\n",
       "      <td>{'on': 40.45808721538086}</td>\n",
       "      <td>{'avail': 25.446644491594235}</td>\n",
       "    </tr>\n",
       "    <tr>\n",
       "      <th>19</th>\n",
       "      <td>{'but': 1818}</td>\n",
       "      <td>{'did': 518}</td>\n",
       "      <td>{'but': 63.585352804666755}</td>\n",
       "      <td>{'acceptab': 25.228516436347924}</td>\n",
       "      <td>{'if': 38.77263584827218}</td>\n",
       "      <td>{'acceptab': 25.228516436347924}</td>\n",
       "    </tr>\n",
       "  </tbody>\n",
       "</table>\n",
       "</div>"
      ],
      "text/plain": [
       "             Count                                                TF  \\\n",
       "     Без стоп-слов      С стоп-словами                 Без стоп-слов   \n",
       "0   {'the': 16651}       {'thi': 2494}    {'the': 533.6024042368656}   \n",
       "1     {'to': 8490}        {'wa': 1669}    {'to': 280.79790354201583}   \n",
       "2     {'of': 8334}       {'god': 1453}     {'of': 244.9348757517005}   \n",
       "3    {'and': 6657}        {'hi': 1004}    {'and': 206.1233106003709}   \n",
       "4   {'that': 5748}  {'christian': 909}     {'is': 194.3722816360924}   \n",
       "5     {'is': 5686}         {'ha': 867}  {'that': 181.67024370851857}   \n",
       "6     {'in': 4801}        {'doe': 788}    {'in': 152.53476815361205}   \n",
       "7     {'it': 4087}      {'peopl': 785}     {'it': 146.0633678113764}   \n",
       "8    {'you': 3091}        {'say': 759}   {'you': 115.83370128734639}   \n",
       "9    {'not': 2921}        {'use': 731}   {'for': 103.80770583846451}   \n",
       "10    {'be': 2723}       {'know': 720}     {'be': 93.93792886919096}   \n",
       "11   {'for': 2699}       {'jesu': 716}    {'not': 89.13474917240082}   \n",
       "12   {'thi': 2494}      {'think': 659}    {'thi': 88.44240833356106}   \n",
       "13  {'have': 2332}        {'ani': 658}   {'have': 87.30612987422288}   \n",
       "14   {'are': 2261}       {'onli': 625}   {'with': 77.19469611884804}   \n",
       "15    {'as': 2134}       {'like': 613}    {'are': 75.68404303725856}   \n",
       "16  {'with': 2071}     {'believ': 599}     {'on': 69.42025813969494}   \n",
       "17    {'do': 1828}       {'just': 586}      {'do': 65.4990726142797}   \n",
       "18    {'on': 1828}       {'time': 532}     {'if': 64.51634873919015}   \n",
       "19   {'but': 1818}        {'did': 518}   {'but': 63.585352804666755}   \n",
       "\n",
       "                                                              TF-IDF  \\\n",
       "                         С стоп-словами                Без стоп-слов   \n",
       "0         {'hazrat': 84.04605919516031}  {'the': 216.64166617238433}   \n",
       "1     {'merchandis': 53.06617041632788}   {'to': 124.00623302448895}   \n",
       "2     {'relativli': 51.461500350700305}   {'of': 114.05132687333837}   \n",
       "3           {'mask': 49.95803872415939}   {'and': 96.67208703969094}   \n",
       "4             {'di': 47.66231977464952}   {'that': 91.9081519574775}   \n",
       "5         {'dieti': 45.904856306460154}    {'is': 91.65225243008739}   \n",
       "6         {'muham': 44.557247980439584}     {'in': 75.5050120617292}   \n",
       "7     {'undiscuss': 42.683000298870574}    {'it': 74.18016258094475}   \n",
       "8   {'magisterieum': 41.40465459972886}   {'you': 70.98559082363474}   \n",
       "9        {'abomin': 31.590391737280633}   {'for': 54.01225755326821}   \n",
       "10         {'uniti': 31.41388463517261}   {'be': 53.347885440854434}   \n",
       "11          {'heat': 29.98678066435632}   {'not': 52.92993046720662}   \n",
       "12        {'stare': 29.883715281817828}  {'thi': 51.466855199772894}   \n",
       "13       {'nobodi': 29.593860305546464}  {'have': 48.22745458111488}   \n",
       "14      {'automat': 28.097482333068694}   {'are': 46.82287154841494}   \n",
       "15           {'vp': 27.373307702686343}  {'with': 43.31005469740532}   \n",
       "16          {'wish': 25.76215334315875}   {'as': 41.801909793427605}   \n",
       "17         {'sall': 25.573089707965188}    {'do': 41.33281243586461}   \n",
       "18        {'avail': 25.446644491594235}    {'on': 40.45808721538086}   \n",
       "19     {'acceptab': 25.228516436347924}    {'if': 38.77263584827218}   \n",
       "\n",
       "                                         \n",
       "                         С стоп-словами  \n",
       "0         {'hazrat': 84.04605919516031}  \n",
       "1     {'merchandis': 53.06617041632788}  \n",
       "2     {'relativli': 51.461500350700305}  \n",
       "3           {'mask': 49.95803872415939}  \n",
       "4             {'di': 47.66231977464952}  \n",
       "5         {'dieti': 45.904856306460154}  \n",
       "6         {'muham': 44.557247980439584}  \n",
       "7     {'undiscuss': 42.683000298870574}  \n",
       "8   {'magisterieum': 41.40465459972886}  \n",
       "9        {'abomin': 31.590391737280633}  \n",
       "10         {'uniti': 31.41388463517261}  \n",
       "11          {'heat': 29.98678066435632}  \n",
       "12        {'stare': 29.883715281817828}  \n",
       "13       {'nobodi': 29.593860305546464}  \n",
       "14      {'automat': 28.097482333068694}  \n",
       "15           {'vp': 27.373307702686343}  \n",
       "16          {'wish': 25.76215334315875}  \n",
       "17         {'sall': 25.573089707965188}  \n",
       "18        {'avail': 25.446644491594235}  \n",
       "19     {'acceptab': 25.228516436347924}  "
      ]
     },
     "execution_count": 41,
     "metadata": {},
     "output_type": "execute_result"
    }
   ],
   "source": [
    "df3 = pd.DataFrame(columns=columns)\n",
    "\n",
    "df3['Count', 'Без стоп-слов'] = top_terms_stem\n",
    "df3['TF', 'Без стоп-слов'] = top_terms_stem_tf\n",
    "df3['TF-IDF', 'Без стоп-слов'] = top_terms_stem_tfidf\n",
    "\n",
    "df3['Count', 'С стоп-словами'] = top_terms_stop_stem\n",
    "df3['TF', 'С стоп-словами'] = top_terms_stem_stop_tf\n",
    "df3['TF-IDF', 'С стоп-словами'] = top_terms_stem_stop_tfidf\n",
    "\n",
    "df3"
   ]
  },
  {
   "cell_type": "code",
   "execution_count": 42,
   "id": "90d00b31",
   "metadata": {
    "pycharm": {
     "name": "#%%\n"
    }
   },
   "outputs": [
    {
     "data": {
      "text/html": [
       "<div>\n",
       "<style scoped>\n",
       "    .dataframe tbody tr th:only-of-type {\n",
       "        vertical-align: middle;\n",
       "    }\n",
       "\n",
       "    .dataframe tbody tr th {\n",
       "        vertical-align: top;\n",
       "    }\n",
       "\n",
       "    .dataframe thead tr th {\n",
       "        text-align: left;\n",
       "    }\n",
       "</style>\n",
       "<table border=\"1\" class=\"dataframe\">\n",
       "  <thead>\n",
       "    <tr>\n",
       "      <th></th>\n",
       "      <th colspan=\"2\" halign=\"left\">Count</th>\n",
       "      <th colspan=\"2\" halign=\"left\">TF</th>\n",
       "      <th colspan=\"2\" halign=\"left\">TF-IDF</th>\n",
       "    </tr>\n",
       "    <tr>\n",
       "      <th></th>\n",
       "      <th>Без стоп-слов</th>\n",
       "      <th>С стоп-словами</th>\n",
       "      <th>Без стоп-слов</th>\n",
       "      <th>С стоп-словами</th>\n",
       "      <th>Без стоп-слов</th>\n",
       "      <th>С стоп-словами</th>\n",
       "    </tr>\n",
       "  </thead>\n",
       "  <tbody>\n",
       "    <tr>\n",
       "      <th>0</th>\n",
       "      <td>{'the': 12380}</td>\n",
       "      <td>{'thi': 1756}</td>\n",
       "      <td>{'the': 357.42953269535775}</td>\n",
       "      <td>{'hazrat': 52.56617814468827}</td>\n",
       "      <td>{'the': 148.44840163307802}</td>\n",
       "      <td>{'hazrat': 52.56617814468827}</td>\n",
       "    </tr>\n",
       "    <tr>\n",
       "      <th>1</th>\n",
       "      <td>{'to': 6270}</td>\n",
       "      <td>{'god': 1173}</td>\n",
       "      <td>{'to': 193.0934678602922}</td>\n",
       "      <td>{'merchandis': 37.79665379581945}</td>\n",
       "      <td>{'to': 86.18185750706422}</td>\n",
       "      <td>{'merchandis': 37.79665379581945}</td>\n",
       "    </tr>\n",
       "    <tr>\n",
       "      <th>2</th>\n",
       "      <td>{'of': 6251}</td>\n",
       "      <td>{'wa': 1154}</td>\n",
       "      <td>{'of': 163.11159230069902}</td>\n",
       "      <td>{'mask': 32.38004562022943}</td>\n",
       "      <td>{'of': 77.96764025564627}</td>\n",
       "      <td>{'mask': 32.38004562022943}</td>\n",
       "    </tr>\n",
       "    <tr>\n",
       "      <th>3</th>\n",
       "      <td>{'and': 4764}</td>\n",
       "      <td>{'hi': 737}</td>\n",
       "      <td>{'and': 130.64064754373393}</td>\n",
       "      <td>{'dieti': 31.714807369343013}</td>\n",
       "      <td>{'and': 62.34718973797119}</td>\n",
       "      <td>{'dieti': 31.714807369343013}</td>\n",
       "    </tr>\n",
       "    <tr>\n",
       "      <th>4</th>\n",
       "      <td>{'is': 3955}</td>\n",
       "      <td>{'christian': 624}</td>\n",
       "      <td>{'that': 121.85582499990868}</td>\n",
       "      <td>{'di': 31.552249334010018}</td>\n",
       "      <td>{'that': 61.801008270307904}</td>\n",
       "      <td>{'di': 31.552249334010018}</td>\n",
       "    </tr>\n",
       "    <tr>\n",
       "      <th>5</th>\n",
       "      <td>{'that': 3930}</td>\n",
       "      <td>{'ha': 566}</td>\n",
       "      <td>{'is': 121.07210432311149}</td>\n",
       "      <td>{'muham': 29.99492088865641}</td>\n",
       "      <td>{'is': 58.55502667880058}</td>\n",
       "      <td>{'muham': 29.99492088865641}</td>\n",
       "    </tr>\n",
       "    <tr>\n",
       "      <th>6</th>\n",
       "      <td>{'in': 3771}</td>\n",
       "      <td>{'use': 563}</td>\n",
       "      <td>{'in': 105.56690438668741}</td>\n",
       "      <td>{'undiscuss': 27.996778310542236}</td>\n",
       "      <td>{'in': 54.22442872955803}</td>\n",
       "      <td>{'undiscuss': 27.996778310542236}</td>\n",
       "    </tr>\n",
       "    <tr>\n",
       "      <th>7</th>\n",
       "      <td>{'it': 2882}</td>\n",
       "      <td>{'ani': 510}</td>\n",
       "      <td>{'it': 102.97217168052809}</td>\n",
       "      <td>{'relativli': 27.570418756826566}</td>\n",
       "      <td>{'it': 52.874155787450924}</td>\n",
       "      <td>{'relativli': 27.570418756826566}</td>\n",
       "    </tr>\n",
       "    <tr>\n",
       "      <th>8</th>\n",
       "      <td>{'you': 2165}</td>\n",
       "      <td>{'doe': 510}</td>\n",
       "      <td>{'you': 77.64234325340601}</td>\n",
       "      <td>{'nobodi': 21.00989194778251}</td>\n",
       "      <td>{'you': 47.98992721956406}</td>\n",
       "      <td>{'nobodi': 21.00989194778251}</td>\n",
       "    </tr>\n",
       "    <tr>\n",
       "      <th>9</th>\n",
       "      <td>{'not': 2042}</td>\n",
       "      <td>{'say': 487}</td>\n",
       "      <td>{'for': 66.44039176340249}</td>\n",
       "      <td>{'uniti': 20.69403326971876}</td>\n",
       "      <td>{'not': 36.69440941285236}</td>\n",
       "      <td>{'uniti': 20.69403326971876}</td>\n",
       "    </tr>\n",
       "    <tr>\n",
       "      <th>10</th>\n",
       "      <td>{'be': 1904}</td>\n",
       "      <td>{'know': 485}</td>\n",
       "      <td>{'not': 61.51670078442213}</td>\n",
       "      <td>{'magisterieum': 20.010418361950915}</td>\n",
       "      <td>{'for': 35.22027869058943}</td>\n",
       "      <td>{'magisterieum': 20.010418361950915}</td>\n",
       "    </tr>\n",
       "    <tr>\n",
       "      <th>11</th>\n",
       "      <td>{'for': 1839}</td>\n",
       "      <td>{'peopl': 473}</td>\n",
       "      <td>{'have': 61.345637245795935}</td>\n",
       "      <td>{'automat': 19.476981780463902}</td>\n",
       "      <td>{'be': 34.71864300028177}</td>\n",
       "      <td>{'automat': 19.476981780463902}</td>\n",
       "    </tr>\n",
       "    <tr>\n",
       "      <th>12</th>\n",
       "      <td>{'thi': 1756}</td>\n",
       "      <td>{'like': 425}</td>\n",
       "      <td>{'be': 60.1583338096674}</td>\n",
       "      <td>{'cyru': 18.95344612955057}</td>\n",
       "      <td>{'have': 34.241537522424174}</td>\n",
       "      <td>{'cyru': 18.95344612955057}</td>\n",
       "    </tr>\n",
       "    <tr>\n",
       "      <th>13</th>\n",
       "      <td>{'have': 1614}</td>\n",
       "      <td>{'homosexu': 410}</td>\n",
       "      <td>{'thi': 55.97694335313927}</td>\n",
       "      <td>{'stare': 18.273135374257958}</td>\n",
       "      <td>{'thi': 33.153367265959325}</td>\n",
       "      <td>{'stare': 18.273135374257958}</td>\n",
       "    </tr>\n",
       "    <tr>\n",
       "      <th>14</th>\n",
       "      <td>{'as': 1579}</td>\n",
       "      <td>{'sin': 396}</td>\n",
       "      <td>{'on': 50.23064353616814}</td>\n",
       "      <td>{'aviat': 17.889577615820613}</td>\n",
       "      <td>{'on': 29.48488130877514}</td>\n",
       "      <td>{'aviat': 17.889577615820613}</td>\n",
       "    </tr>\n",
       "    <tr>\n",
       "      <th>15</th>\n",
       "      <td>{'are': 1558}</td>\n",
       "      <td>{'onli': 390}</td>\n",
       "      <td>{'with': 49.68487967865335}</td>\n",
       "      <td>{'wish': 17.380657714430487}</td>\n",
       "      <td>{'with': 29.160656939048575}</td>\n",
       "      <td>{'wish': 17.380657714430487}</td>\n",
       "    </tr>\n",
       "    <tr>\n",
       "      <th>16</th>\n",
       "      <td>{'with': 1476}</td>\n",
       "      <td>{'just': 380}</td>\n",
       "      <td>{'are': 45.2643257420303}</td>\n",
       "      <td>{'abomin': 17.14902573648428}</td>\n",
       "      <td>{'are': 28.988578800351764}</td>\n",
       "      <td>{'abomin': 17.14902573648428}</td>\n",
       "    </tr>\n",
       "    <tr>\n",
       "      <th>17</th>\n",
       "      <td>{'on': 1354}</td>\n",
       "      <td>{'think': 375}</td>\n",
       "      <td>{'do': 44.96495617079795}</td>\n",
       "      <td>{'795': 16.935555097962848}</td>\n",
       "      <td>{'do': 28.875533246770882}</td>\n",
       "      <td>{'795': 16.935555097962848}</td>\n",
       "    </tr>\n",
       "    <tr>\n",
       "      <th>18</th>\n",
       "      <td>{'do': 1217}</td>\n",
       "      <td>{'believ': 371}</td>\n",
       "      <td>{'as': 40.80538032516044}</td>\n",
       "      <td>{'prone': 16.60129290675252}</td>\n",
       "      <td>{'as': 27.99019444534268}</td>\n",
       "      <td>{'prone': 16.60129290675252}</td>\n",
       "    </tr>\n",
       "    <tr>\n",
       "      <th>19</th>\n",
       "      <td>{'god': 1173}</td>\n",
       "      <td>{'christ': 368}</td>\n",
       "      <td>{'if': 38.80762817439416}</td>\n",
       "      <td>{'sgi': 16.25414677898279}</td>\n",
       "      <td>{'wa': 27.759404376818473}</td>\n",
       "      <td>{'sgi': 16.25414677898279}</td>\n",
       "    </tr>\n",
       "  </tbody>\n",
       "</table>\n",
       "</div>"
      ],
      "text/plain": [
       "             Count                                                TF  \\\n",
       "     Без стоп-слов      С стоп-словами                 Без стоп-слов   \n",
       "0   {'the': 12380}       {'thi': 1756}   {'the': 357.42953269535775}   \n",
       "1     {'to': 6270}       {'god': 1173}     {'to': 193.0934678602922}   \n",
       "2     {'of': 6251}        {'wa': 1154}    {'of': 163.11159230069902}   \n",
       "3    {'and': 4764}         {'hi': 737}   {'and': 130.64064754373393}   \n",
       "4     {'is': 3955}  {'christian': 624}  {'that': 121.85582499990868}   \n",
       "5   {'that': 3930}         {'ha': 566}    {'is': 121.07210432311149}   \n",
       "6     {'in': 3771}        {'use': 563}    {'in': 105.56690438668741}   \n",
       "7     {'it': 2882}        {'ani': 510}    {'it': 102.97217168052809}   \n",
       "8    {'you': 2165}        {'doe': 510}    {'you': 77.64234325340601}   \n",
       "9    {'not': 2042}        {'say': 487}    {'for': 66.44039176340249}   \n",
       "10    {'be': 1904}       {'know': 485}    {'not': 61.51670078442213}   \n",
       "11   {'for': 1839}      {'peopl': 473}  {'have': 61.345637245795935}   \n",
       "12   {'thi': 1756}       {'like': 425}      {'be': 60.1583338096674}   \n",
       "13  {'have': 1614}   {'homosexu': 410}    {'thi': 55.97694335313927}   \n",
       "14    {'as': 1579}        {'sin': 396}     {'on': 50.23064353616814}   \n",
       "15   {'are': 1558}       {'onli': 390}   {'with': 49.68487967865335}   \n",
       "16  {'with': 1476}       {'just': 380}     {'are': 45.2643257420303}   \n",
       "17    {'on': 1354}      {'think': 375}     {'do': 44.96495617079795}   \n",
       "18    {'do': 1217}     {'believ': 371}     {'as': 40.80538032516044}   \n",
       "19   {'god': 1173}     {'christ': 368}     {'if': 38.80762817439416}   \n",
       "\n",
       "                                                                TF-IDF  \\\n",
       "                          С стоп-словами                 Без стоп-слов   \n",
       "0          {'hazrat': 52.56617814468827}   {'the': 148.44840163307802}   \n",
       "1      {'merchandis': 37.79665379581945}     {'to': 86.18185750706422}   \n",
       "2            {'mask': 32.38004562022943}     {'of': 77.96764025564627}   \n",
       "3          {'dieti': 31.714807369343013}    {'and': 62.34718973797119}   \n",
       "4             {'di': 31.552249334010018}  {'that': 61.801008270307904}   \n",
       "5           {'muham': 29.99492088865641}     {'is': 58.55502667880058}   \n",
       "6      {'undiscuss': 27.996778310542236}     {'in': 54.22442872955803}   \n",
       "7      {'relativli': 27.570418756826566}    {'it': 52.874155787450924}   \n",
       "8          {'nobodi': 21.00989194778251}    {'you': 47.98992721956406}   \n",
       "9           {'uniti': 20.69403326971876}    {'not': 36.69440941285236}   \n",
       "10  {'magisterieum': 20.010418361950915}    {'for': 35.22027869058943}   \n",
       "11       {'automat': 19.476981780463902}     {'be': 34.71864300028177}   \n",
       "12           {'cyru': 18.95344612955057}  {'have': 34.241537522424174}   \n",
       "13         {'stare': 18.273135374257958}   {'thi': 33.153367265959325}   \n",
       "14         {'aviat': 17.889577615820613}     {'on': 29.48488130877514}   \n",
       "15          {'wish': 17.380657714430487}  {'with': 29.160656939048575}   \n",
       "16         {'abomin': 17.14902573648428}   {'are': 28.988578800351764}   \n",
       "17           {'795': 16.935555097962848}    {'do': 28.875533246770882}   \n",
       "18          {'prone': 16.60129290675252}     {'as': 27.99019444534268}   \n",
       "19            {'sgi': 16.25414677898279}    {'wa': 27.759404376818473}   \n",
       "\n",
       "                                          \n",
       "                          С стоп-словами  \n",
       "0          {'hazrat': 52.56617814468827}  \n",
       "1      {'merchandis': 37.79665379581945}  \n",
       "2            {'mask': 32.38004562022943}  \n",
       "3          {'dieti': 31.714807369343013}  \n",
       "4             {'di': 31.552249334010018}  \n",
       "5           {'muham': 29.99492088865641}  \n",
       "6      {'undiscuss': 27.996778310542236}  \n",
       "7      {'relativli': 27.570418756826566}  \n",
       "8          {'nobodi': 21.00989194778251}  \n",
       "9           {'uniti': 20.69403326971876}  \n",
       "10  {'magisterieum': 20.010418361950915}  \n",
       "11       {'automat': 19.476981780463902}  \n",
       "12           {'cyru': 18.95344612955057}  \n",
       "13         {'stare': 18.273135374257958}  \n",
       "14         {'aviat': 17.889577615820613}  \n",
       "15          {'wish': 17.380657714430487}  \n",
       "16         {'abomin': 17.14902573648428}  \n",
       "17           {'795': 16.935555097962848}  \n",
       "18          {'prone': 16.60129290675252}  \n",
       "19            {'sgi': 16.25414677898279}  "
      ]
     },
     "execution_count": 42,
     "metadata": {},
     "output_type": "execute_result"
    }
   ],
   "source": [
    "df4 = pd.DataFrame(columns=columns)\n",
    "\n",
    "df4['Count', 'Без стоп-слов'] = top_terms_stem_test\n",
    "df4['TF', 'Без стоп-слов'] = top_terms_stem_tf_test\n",
    "df4['TF-IDF', 'Без стоп-слов'] = top_terms_stem_tfidf_test\n",
    "\n",
    "df4['Count', 'С стоп-словами'] = top_terms_stop_stem_test\n",
    "df4['TF', 'С стоп-словами'] = top_terms_stem_stop_tf_test\n",
    "df4['TF-IDF', 'С стоп-словами'] = top_terms_stem_stop_tfidf_test\n",
    "\n",
    "df4"
   ]
  },
  {
   "cell_type": "markdown",
   "id": "1398b563",
   "metadata": {
    "pycharm": {
     "name": "#%% md\n"
    }
   },
   "source": [
    "#### Запись в файл"
   ]
  },
  {
   "cell_type": "code",
   "execution_count": 43,
   "id": "ed81e668",
   "metadata": {
    "pycharm": {
     "name": "#%%\n"
    }
   },
   "outputs": [],
   "source": [
    "import openpyxl"
   ]
  },
  {
   "cell_type": "code",
   "execution_count": 44,
   "id": "ceff0f2a",
   "metadata": {
    "pycharm": {
     "name": "#%%\n"
    }
   },
   "outputs": [],
   "source": [
    "writer = pd.ExcelWriter('result.xlsx', engine='openpyxl')\n",
    "\n",
    "df1.to_excel(writer, sheet_name='Train, wo stem')\n",
    "df2.to_excel(writer, sheet_name='Test, wo stem')\n",
    "df3.to_excel(writer, sheet_name='Train, with stem')\n",
    "df4.to_excel(writer, sheet_name='Test, with stem')\n",
    "\n",
    "writer.close()"
   ]
  },
  {
   "cell_type": "markdown",
   "id": "58cf3bf1",
   "metadata": {
    "pycharm": {
     "name": "#%% md\n"
    }
   },
   "source": [
    "### Конвейер"
   ]
  },
  {
   "cell_type": "code",
   "execution_count": 45,
   "id": "c6843061",
   "metadata": {
    "pycharm": {
     "name": "#%%\n"
    }
   },
   "outputs": [],
   "source": [
    "from sklearn.metrics import classification_report\n",
    "from sklearn.naive_bayes import MultinomialNB"
   ]
  },
  {
   "cell_type": "code",
   "execution_count": 46,
   "id": "aede3418",
   "metadata": {
    "pycharm": {
     "name": "#%%\n"
    }
   },
   "outputs": [],
   "source": [
    "stop_words = [None, 'english']\n",
    "max_features_values = [100, 500, 1000, 2000, 3000, 4000, 5000]\n",
    "use_tf = [True, False]\n",
    "use_idf = [True, False]"
   ]
  },
  {
   "cell_type": "code",
   "execution_count": 47,
   "id": "61f995ac",
   "metadata": {
    "pycharm": {
     "name": "#%%\n"
    }
   },
   "outputs": [],
   "source": [
    "def prepare(data, max_feature, stop_word, use_tf, use_idf):\n",
    "    tf = None\n",
    "    cv = CountVectorizer(max_features=max_feature, stop_words=stop_word)\n",
    "    cv.fit(data)\n",
    "    if use_tf:\n",
    "        tf = TfidfTransformer(use_idf=use_idf)\n",
    "        tf.fit(cv.transform(data))\n",
    "    return cv, tf"
   ]
  },
  {
   "cell_type": "code",
   "execution_count": 48,
   "id": "10d5c93e",
   "metadata": {
    "pycharm": {
     "name": "#%%\n"
    }
   },
   "outputs": [],
   "source": [
    "result = []\n",
    "\n",
    "for max_features_value in max_features_values:\n",
    "    for stop_word in stop_words:\n",
    "        for ut in use_tf:\n",
    "            for ui in use_idf:\n",
    "                options = {}\n",
    "                cv, tf = prepare(twenty_train_full.data, max_features_value, stop_word, ut, ui)\n",
    "                if tf:\n",
    "                    clf = MultinomialNB()\n",
    "                    clf.fit(tf.transform(cv.transform(twenty_train_full.data)), twenty_train_full.target)\n",
    "                    prep_test = tf.transform(cv.transform(twenty_test_full.data))\n",
    "                else:\n",
    "                    clf = MultinomialNB()\n",
    "                    clf.fit(cv.transform(twenty_train_full.data), twenty_train_full.target)\n",
    "                    prep_test = cv.transform(twenty_test_full.data)\n",
    "\n",
    "                options['features'] = max_features_value\n",
    "                options['stop_words'] = stop_word\n",
    "                options['use_tf'] = ut\n",
    "                options['use_idf'] = ui\n",
    "\n",
    "                result_data = classification_report(clf.predict(prep_test), twenty_test_full.target, output_dict=True)\n",
    "                result_df = pd.DataFrame(result_data)\n",
    "                result.append({\n",
    "                    'df': result_df,\n",
    "                    'options': options\n",
    "                })"
   ]
  },
  {
   "cell_type": "code",
   "execution_count": 49,
   "id": "014351f1",
   "metadata": {
    "pycharm": {
     "name": "#%%\n"
    }
   },
   "outputs": [],
   "source": [
    "writer = pd.ExcelWriter('result_compare.xlsx', engine='openpyxl')\n",
    "\n",
    "df = pd.DataFrame(columns=['Номер страницы', 'features', 'stop_words', 'use_tf', 'use_idf'])\n",
    "for it, item in enumerate(result):\n",
    "    for key, value in item['options'].items():\n",
    "        df.at[it, key] = value\n",
    "    df.at[it, 'Номер страницы'] = it\n",
    "\n",
    "df.to_excel(writer, sheet_name='Оглавление')\n",
    "\n",
    "for it, item in enumerate(result):\n",
    "    df_new = pd.DataFrame(item['df'])\n",
    "    df_new.to_excel(writer, sheet_name=f'Страница {it}')\n",
    "\n",
    "writer.close()"
   ]
  },
  {
   "cell_type": "code",
   "execution_count": 50,
   "id": "75ca7bd1",
   "metadata": {
    "pycharm": {
     "name": "#%%\n"
    }
   },
   "outputs": [],
   "source": [
    "from sklearn.pipeline import Pipeline\n",
    "\n",
    "parameters = {\n",
    "    'vect__max_features': max_features_values,\n",
    "    'vect__stop_words': stop_words,\n",
    "    'tfidf__use_idf': use_idf\n",
    "}\n",
    "\n",
    "text_clf = Pipeline([('vect', CountVectorizer()),\n",
    "                     ('tfidf', TfidfTransformer()),\n",
    "                     ('clf', MultinomialNB())])"
   ]
  },
  {
   "cell_type": "code",
   "execution_count": 51,
   "id": "f1c3b4c4",
   "metadata": {
    "pycharm": {
     "name": "#%%\n"
    }
   },
   "outputs": [
    {
     "data": {
      "text/html": [
       "<style>#sk-container-id-1 {color: black;}#sk-container-id-1 pre{padding: 0;}#sk-container-id-1 div.sk-toggleable {background-color: white;}#sk-container-id-1 label.sk-toggleable__label {cursor: pointer;display: block;width: 100%;margin-bottom: 0;padding: 0.3em;box-sizing: border-box;text-align: center;}#sk-container-id-1 label.sk-toggleable__label-arrow:before {content: \"▸\";float: left;margin-right: 0.25em;color: #696969;}#sk-container-id-1 label.sk-toggleable__label-arrow:hover:before {color: black;}#sk-container-id-1 div.sk-estimator:hover label.sk-toggleable__label-arrow:before {color: black;}#sk-container-id-1 div.sk-toggleable__content {max-height: 0;max-width: 0;overflow: hidden;text-align: left;background-color: #f0f8ff;}#sk-container-id-1 div.sk-toggleable__content pre {margin: 0.2em;color: black;border-radius: 0.25em;background-color: #f0f8ff;}#sk-container-id-1 input.sk-toggleable__control:checked~div.sk-toggleable__content {max-height: 200px;max-width: 100%;overflow: auto;}#sk-container-id-1 input.sk-toggleable__control:checked~label.sk-toggleable__label-arrow:before {content: \"▾\";}#sk-container-id-1 div.sk-estimator input.sk-toggleable__control:checked~label.sk-toggleable__label {background-color: #d4ebff;}#sk-container-id-1 div.sk-label input.sk-toggleable__control:checked~label.sk-toggleable__label {background-color: #d4ebff;}#sk-container-id-1 input.sk-hidden--visually {border: 0;clip: rect(1px 1px 1px 1px);clip: rect(1px, 1px, 1px, 1px);height: 1px;margin: -1px;overflow: hidden;padding: 0;position: absolute;width: 1px;}#sk-container-id-1 div.sk-estimator {font-family: monospace;background-color: #f0f8ff;border: 1px dotted black;border-radius: 0.25em;box-sizing: border-box;margin-bottom: 0.5em;}#sk-container-id-1 div.sk-estimator:hover {background-color: #d4ebff;}#sk-container-id-1 div.sk-parallel-item::after {content: \"\";width: 100%;border-bottom: 1px solid gray;flex-grow: 1;}#sk-container-id-1 div.sk-label:hover label.sk-toggleable__label {background-color: #d4ebff;}#sk-container-id-1 div.sk-serial::before {content: \"\";position: absolute;border-left: 1px solid gray;box-sizing: border-box;top: 0;bottom: 0;left: 50%;z-index: 0;}#sk-container-id-1 div.sk-serial {display: flex;flex-direction: column;align-items: center;background-color: white;padding-right: 0.2em;padding-left: 0.2em;position: relative;}#sk-container-id-1 div.sk-item {position: relative;z-index: 1;}#sk-container-id-1 div.sk-parallel {display: flex;align-items: stretch;justify-content: center;background-color: white;position: relative;}#sk-container-id-1 div.sk-item::before, #sk-container-id-1 div.sk-parallel-item::before {content: \"\";position: absolute;border-left: 1px solid gray;box-sizing: border-box;top: 0;bottom: 0;left: 50%;z-index: -1;}#sk-container-id-1 div.sk-parallel-item {display: flex;flex-direction: column;z-index: 1;position: relative;background-color: white;}#sk-container-id-1 div.sk-parallel-item:first-child::after {align-self: flex-end;width: 50%;}#sk-container-id-1 div.sk-parallel-item:last-child::after {align-self: flex-start;width: 50%;}#sk-container-id-1 div.sk-parallel-item:only-child::after {width: 0;}#sk-container-id-1 div.sk-dashed-wrapped {border: 1px dashed gray;margin: 0 0.4em 0.5em 0.4em;box-sizing: border-box;padding-bottom: 0.4em;background-color: white;}#sk-container-id-1 div.sk-label label {font-family: monospace;font-weight: bold;display: inline-block;line-height: 1.2em;}#sk-container-id-1 div.sk-label-container {text-align: center;}#sk-container-id-1 div.sk-container {/* jupyter's `normalize.less` sets `[hidden] { display: none; }` but bootstrap.min.css set `[hidden] { display: none !important; }` so we also need the `!important` here to be able to override the default hidden behavior on the sphinx rendered scikit-learn.org. See: https://github.com/scikit-learn/scikit-learn/issues/21755 */display: inline-block !important;position: relative;}#sk-container-id-1 div.sk-text-repr-fallback {display: none;}</style><div id=\"sk-container-id-1\" class=\"sk-top-container\"><div class=\"sk-text-repr-fallback\"><pre>GridSearchCV(estimator=Pipeline(steps=[(&#x27;vect&#x27;, CountVectorizer()),\n",
       "                                       (&#x27;tfidf&#x27;, TfidfTransformer()),\n",
       "                                       (&#x27;clf&#x27;, MultinomialNB())]),\n",
       "             param_grid={&#x27;tfidf__use_idf&#x27;: [True, False],\n",
       "                         &#x27;vect__max_features&#x27;: [100, 500, 1000, 2000, 3000,\n",
       "                                                4000, 5000],\n",
       "                         &#x27;vect__stop_words&#x27;: [None, &#x27;english&#x27;]})</pre><b>In a Jupyter environment, please rerun this cell to show the HTML representation or trust the notebook. <br />On GitHub, the HTML representation is unable to render, please try loading this page with nbviewer.org.</b></div><div class=\"sk-container\" hidden><div class=\"sk-item sk-dashed-wrapped\"><div class=\"sk-label-container\"><div class=\"sk-label sk-toggleable\"><input class=\"sk-toggleable__control sk-hidden--visually\" id=\"sk-estimator-id-1\" type=\"checkbox\" ><label for=\"sk-estimator-id-1\" class=\"sk-toggleable__label sk-toggleable__label-arrow\">GridSearchCV</label><div class=\"sk-toggleable__content\"><pre>GridSearchCV(estimator=Pipeline(steps=[(&#x27;vect&#x27;, CountVectorizer()),\n",
       "                                       (&#x27;tfidf&#x27;, TfidfTransformer()),\n",
       "                                       (&#x27;clf&#x27;, MultinomialNB())]),\n",
       "             param_grid={&#x27;tfidf__use_idf&#x27;: [True, False],\n",
       "                         &#x27;vect__max_features&#x27;: [100, 500, 1000, 2000, 3000,\n",
       "                                                4000, 5000],\n",
       "                         &#x27;vect__stop_words&#x27;: [None, &#x27;english&#x27;]})</pre></div></div></div><div class=\"sk-parallel\"><div class=\"sk-parallel-item\"><div class=\"sk-item\"><div class=\"sk-label-container\"><div class=\"sk-label sk-toggleable\"><input class=\"sk-toggleable__control sk-hidden--visually\" id=\"sk-estimator-id-2\" type=\"checkbox\" ><label for=\"sk-estimator-id-2\" class=\"sk-toggleable__label sk-toggleable__label-arrow\">estimator: Pipeline</label><div class=\"sk-toggleable__content\"><pre>Pipeline(steps=[(&#x27;vect&#x27;, CountVectorizer()), (&#x27;tfidf&#x27;, TfidfTransformer()),\n",
       "                (&#x27;clf&#x27;, MultinomialNB())])</pre></div></div></div><div class=\"sk-serial\"><div class=\"sk-item\"><div class=\"sk-serial\"><div class=\"sk-item\"><div class=\"sk-estimator sk-toggleable\"><input class=\"sk-toggleable__control sk-hidden--visually\" id=\"sk-estimator-id-3\" type=\"checkbox\" ><label for=\"sk-estimator-id-3\" class=\"sk-toggleable__label sk-toggleable__label-arrow\">CountVectorizer</label><div class=\"sk-toggleable__content\"><pre>CountVectorizer()</pre></div></div></div><div class=\"sk-item\"><div class=\"sk-estimator sk-toggleable\"><input class=\"sk-toggleable__control sk-hidden--visually\" id=\"sk-estimator-id-4\" type=\"checkbox\" ><label for=\"sk-estimator-id-4\" class=\"sk-toggleable__label sk-toggleable__label-arrow\">TfidfTransformer</label><div class=\"sk-toggleable__content\"><pre>TfidfTransformer()</pre></div></div></div><div class=\"sk-item\"><div class=\"sk-estimator sk-toggleable\"><input class=\"sk-toggleable__control sk-hidden--visually\" id=\"sk-estimator-id-5\" type=\"checkbox\" ><label for=\"sk-estimator-id-5\" class=\"sk-toggleable__label sk-toggleable__label-arrow\">MultinomialNB</label><div class=\"sk-toggleable__content\"><pre>MultinomialNB()</pre></div></div></div></div></div></div></div></div></div></div></div></div>"
      ],
      "text/plain": [
       "GridSearchCV(estimator=Pipeline(steps=[('vect', CountVectorizer()),\n",
       "                                       ('tfidf', TfidfTransformer()),\n",
       "                                       ('clf', MultinomialNB())]),\n",
       "             param_grid={'tfidf__use_idf': [True, False],\n",
       "                         'vect__max_features': [100, 500, 1000, 2000, 3000,\n",
       "                                                4000, 5000],\n",
       "                         'vect__stop_words': [None, 'english']})"
      ]
     },
     "execution_count": 51,
     "metadata": {},
     "output_type": "execute_result"
    }
   ],
   "source": [
    "from sklearn.model_selection import GridSearchCV\n",
    "\n",
    "gscv = GridSearchCV(text_clf, param_grid=parameters)\n",
    "gscv.fit(twenty_train_full.data, twenty_train_full.target)"
   ]
  },
  {
   "cell_type": "code",
   "execution_count": 52,
   "id": "474a2d1b",
   "metadata": {
    "pycharm": {
     "name": "#%%\n"
    }
   },
   "outputs": [
    {
     "name": "stdout",
     "output_type": "stream",
     "text": [
      "              precision    recall  f1-score   support\n",
      "\n",
      "           0       0.94      0.94      0.94       386\n",
      "           1       0.95      0.65      0.77       583\n",
      "           2       0.23      0.88      0.36        65\n",
      "\n",
      "    accuracy                           0.77      1034\n",
      "   macro avg       0.71      0.82      0.69      1034\n",
      "weighted avg       0.90      0.77      0.81      1034\n",
      "\n"
     ]
    }
   ],
   "source": [
    "print(classification_report(gscv.predict(twenty_test_full.data), twenty_test_full.target))"
   ]
  },
  {
   "cell_type": "code",
   "execution_count": 53,
   "id": "66b7df28",
   "metadata": {
    "pycharm": {
     "name": "#%%\n"
    }
   },
   "outputs": [
    {
     "data": {
      "text/plain": [
       "{'tfidf__use_idf': True,\n",
       " 'vect__max_features': 2000,\n",
       " 'vect__stop_words': 'english'}"
      ]
     },
     "execution_count": 53,
     "metadata": {},
     "output_type": "execute_result"
    }
   ],
   "source": [
    "gscv.best_params_"
   ]
  }
 ],
 "metadata": {
  "kernelspec": {
   "display_name": "Python 3 (ipykernel)",
   "language": "python",
   "name": "python3"
  },
  "language_info": {
   "codemirror_mode": {
    "name": "ipython",
    "version": 3
   },
   "file_extension": ".py",
   "mimetype": "text/x-python",
   "name": "python",
   "nbconvert_exporter": "python",
   "pygments_lexer": "ipython3",
   "version": "3.11.5"
  }
 },
 "nbformat": 4,
 "nbformat_minor": 5
}
